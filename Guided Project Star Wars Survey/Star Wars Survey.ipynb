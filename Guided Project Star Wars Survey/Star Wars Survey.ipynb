{
 "cells": [
  {
   "cell_type": "markdown",
   "metadata": {},
   "source": [
    "# Star Wars Survey"
   ]
  },
  {
   "cell_type": "markdown",
   "metadata": {},
   "source": [
    "## Read the data"
   ]
  },
  {
   "cell_type": "code",
   "execution_count": 39,
   "metadata": {},
   "outputs": [],
   "source": [
    "import pandas as pd\n",
    "import numpy as np\n",
    "import matplotlib\n",
    "import matplotlib.pyplot as plt\n",
    "from matplotlib import cm\n",
    "from matplotlib.colors import ListedColormap, LinearSegmentedColormap\n",
    "\n",
    "%matplotlib inline\n",
    "star_wars = pd.read_csv(\"star_wars.csv\", encoding=\"ISO-8859-1\")"
   ]
  },
  {
   "cell_type": "code",
   "execution_count": 40,
   "metadata": {},
   "outputs": [
    {
     "data": {
      "text/html": [
       "<div>\n",
       "<style scoped>\n",
       "    .dataframe tbody tr th:only-of-type {\n",
       "        vertical-align: middle;\n",
       "    }\n",
       "\n",
       "    .dataframe tbody tr th {\n",
       "        vertical-align: top;\n",
       "    }\n",
       "\n",
       "    .dataframe thead th {\n",
       "        text-align: right;\n",
       "    }\n",
       "</style>\n",
       "<table border=\"1\" class=\"dataframe\">\n",
       "  <thead>\n",
       "    <tr style=\"text-align: right;\">\n",
       "      <th></th>\n",
       "      <th>RespondentID</th>\n",
       "      <th>Have you seen any of the 6 films in the Star Wars franchise?</th>\n",
       "      <th>Do you consider yourself to be a fan of the Star Wars film franchise?</th>\n",
       "      <th>Which of the following Star Wars films have you seen? Please select all that apply.</th>\n",
       "      <th>Unnamed: 4</th>\n",
       "      <th>Unnamed: 5</th>\n",
       "      <th>Unnamed: 6</th>\n",
       "      <th>Unnamed: 7</th>\n",
       "      <th>Unnamed: 8</th>\n",
       "      <th>Please rank the Star Wars films in order of preference with 1 being your favorite film in the franchise and 6 being your least favorite film.</th>\n",
       "      <th>...</th>\n",
       "      <th>Unnamed: 28</th>\n",
       "      <th>Which character shot first?</th>\n",
       "      <th>Are you familiar with the Expanded Universe?</th>\n",
       "      <th>Do you consider yourself to be a fan of the Expanded Universe?</th>\n",
       "      <th>Do you consider yourself to be a fan of the Star Trek franchise?</th>\n",
       "      <th>Gender</th>\n",
       "      <th>Age</th>\n",
       "      <th>Household Income</th>\n",
       "      <th>Education</th>\n",
       "      <th>Location (Census Region)</th>\n",
       "    </tr>\n",
       "  </thead>\n",
       "  <tbody>\n",
       "    <tr>\n",
       "      <th>0</th>\n",
       "      <td>3292879998</td>\n",
       "      <td>Yes</td>\n",
       "      <td>Yes</td>\n",
       "      <td>Star Wars: Episode I  The Phantom Menace</td>\n",
       "      <td>Star Wars: Episode II  Attack of the Clones</td>\n",
       "      <td>Star Wars: Episode III  Revenge of the Sith</td>\n",
       "      <td>Star Wars: Episode IV  A New Hope</td>\n",
       "      <td>Star Wars: Episode V The Empire Strikes Back</td>\n",
       "      <td>Star Wars: Episode VI Return of the Jedi</td>\n",
       "      <td>3.0</td>\n",
       "      <td>...</td>\n",
       "      <td>Very favorably</td>\n",
       "      <td>I don't understand this question</td>\n",
       "      <td>Yes</td>\n",
       "      <td>No</td>\n",
       "      <td>No</td>\n",
       "      <td>Male</td>\n",
       "      <td>18-29</td>\n",
       "      <td>NaN</td>\n",
       "      <td>High school degree</td>\n",
       "      <td>South Atlantic</td>\n",
       "    </tr>\n",
       "    <tr>\n",
       "      <th>1</th>\n",
       "      <td>3292879538</td>\n",
       "      <td>No</td>\n",
       "      <td>NaN</td>\n",
       "      <td>NaN</td>\n",
       "      <td>NaN</td>\n",
       "      <td>NaN</td>\n",
       "      <td>NaN</td>\n",
       "      <td>NaN</td>\n",
       "      <td>NaN</td>\n",
       "      <td>NaN</td>\n",
       "      <td>...</td>\n",
       "      <td>NaN</td>\n",
       "      <td>NaN</td>\n",
       "      <td>NaN</td>\n",
       "      <td>NaN</td>\n",
       "      <td>Yes</td>\n",
       "      <td>Male</td>\n",
       "      <td>18-29</td>\n",
       "      <td>$0 - $24,999</td>\n",
       "      <td>Bachelor degree</td>\n",
       "      <td>West South Central</td>\n",
       "    </tr>\n",
       "    <tr>\n",
       "      <th>2</th>\n",
       "      <td>3292765271</td>\n",
       "      <td>Yes</td>\n",
       "      <td>No</td>\n",
       "      <td>Star Wars: Episode I  The Phantom Menace</td>\n",
       "      <td>Star Wars: Episode II  Attack of the Clones</td>\n",
       "      <td>Star Wars: Episode III  Revenge of the Sith</td>\n",
       "      <td>NaN</td>\n",
       "      <td>NaN</td>\n",
       "      <td>NaN</td>\n",
       "      <td>1.0</td>\n",
       "      <td>...</td>\n",
       "      <td>Unfamiliar (N/A)</td>\n",
       "      <td>I don't understand this question</td>\n",
       "      <td>No</td>\n",
       "      <td>NaN</td>\n",
       "      <td>No</td>\n",
       "      <td>Male</td>\n",
       "      <td>18-29</td>\n",
       "      <td>$0 - $24,999</td>\n",
       "      <td>High school degree</td>\n",
       "      <td>West North Central</td>\n",
       "    </tr>\n",
       "    <tr>\n",
       "      <th>3</th>\n",
       "      <td>3292763116</td>\n",
       "      <td>Yes</td>\n",
       "      <td>Yes</td>\n",
       "      <td>Star Wars: Episode I  The Phantom Menace</td>\n",
       "      <td>Star Wars: Episode II  Attack of the Clones</td>\n",
       "      <td>Star Wars: Episode III  Revenge of the Sith</td>\n",
       "      <td>Star Wars: Episode IV  A New Hope</td>\n",
       "      <td>Star Wars: Episode V The Empire Strikes Back</td>\n",
       "      <td>Star Wars: Episode VI Return of the Jedi</td>\n",
       "      <td>5.0</td>\n",
       "      <td>...</td>\n",
       "      <td>Very favorably</td>\n",
       "      <td>I don't understand this question</td>\n",
       "      <td>No</td>\n",
       "      <td>NaN</td>\n",
       "      <td>Yes</td>\n",
       "      <td>Male</td>\n",
       "      <td>18-29</td>\n",
       "      <td>$100,000 - $149,999</td>\n",
       "      <td>Some college or Associate degree</td>\n",
       "      <td>West North Central</td>\n",
       "    </tr>\n",
       "    <tr>\n",
       "      <th>4</th>\n",
       "      <td>3292731220</td>\n",
       "      <td>Yes</td>\n",
       "      <td>Yes</td>\n",
       "      <td>Star Wars: Episode I  The Phantom Menace</td>\n",
       "      <td>Star Wars: Episode II  Attack of the Clones</td>\n",
       "      <td>Star Wars: Episode III  Revenge of the Sith</td>\n",
       "      <td>Star Wars: Episode IV  A New Hope</td>\n",
       "      <td>Star Wars: Episode V The Empire Strikes Back</td>\n",
       "      <td>Star Wars: Episode VI Return of the Jedi</td>\n",
       "      <td>5.0</td>\n",
       "      <td>...</td>\n",
       "      <td>Somewhat favorably</td>\n",
       "      <td>Greedo</td>\n",
       "      <td>Yes</td>\n",
       "      <td>No</td>\n",
       "      <td>No</td>\n",
       "      <td>Male</td>\n",
       "      <td>18-29</td>\n",
       "      <td>$100,000 - $149,999</td>\n",
       "      <td>Some college or Associate degree</td>\n",
       "      <td>West North Central</td>\n",
       "    </tr>\n",
       "  </tbody>\n",
       "</table>\n",
       "<p>5 rows × 38 columns</p>\n",
       "</div>"
      ],
      "text/plain": [
       "   RespondentID Have you seen any of the 6 films in the Star Wars franchise?  \\\n",
       "0    3292879998                                                Yes             \n",
       "1    3292879538                                                 No             \n",
       "2    3292765271                                                Yes             \n",
       "3    3292763116                                                Yes             \n",
       "4    3292731220                                                Yes             \n",
       "\n",
       "  Do you consider yourself to be a fan of the Star Wars film franchise?  \\\n",
       "0                                                Yes                      \n",
       "1                                                NaN                      \n",
       "2                                                 No                      \n",
       "3                                                Yes                      \n",
       "4                                                Yes                      \n",
       "\n",
       "  Which of the following Star Wars films have you seen? Please select all that apply.  \\\n",
       "0           Star Wars: Episode I  The Phantom Menace                                    \n",
       "1                                                NaN                                    \n",
       "2           Star Wars: Episode I  The Phantom Menace                                    \n",
       "3           Star Wars: Episode I  The Phantom Menace                                    \n",
       "4           Star Wars: Episode I  The Phantom Menace                                    \n",
       "\n",
       "                                    Unnamed: 4  \\\n",
       "0  Star Wars: Episode II  Attack of the Clones   \n",
       "1                                          NaN   \n",
       "2  Star Wars: Episode II  Attack of the Clones   \n",
       "3  Star Wars: Episode II  Attack of the Clones   \n",
       "4  Star Wars: Episode II  Attack of the Clones   \n",
       "\n",
       "                                    Unnamed: 5  \\\n",
       "0  Star Wars: Episode III  Revenge of the Sith   \n",
       "1                                          NaN   \n",
       "2  Star Wars: Episode III  Revenge of the Sith   \n",
       "3  Star Wars: Episode III  Revenge of the Sith   \n",
       "4  Star Wars: Episode III  Revenge of the Sith   \n",
       "\n",
       "                          Unnamed: 6  \\\n",
       "0  Star Wars: Episode IV  A New Hope   \n",
       "1                                NaN   \n",
       "2                                NaN   \n",
       "3  Star Wars: Episode IV  A New Hope   \n",
       "4  Star Wars: Episode IV  A New Hope   \n",
       "\n",
       "                                     Unnamed: 7  \\\n",
       "0  Star Wars: Episode V The Empire Strikes Back   \n",
       "1                                           NaN   \n",
       "2                                           NaN   \n",
       "3  Star Wars: Episode V The Empire Strikes Back   \n",
       "4  Star Wars: Episode V The Empire Strikes Back   \n",
       "\n",
       "                                 Unnamed: 8  \\\n",
       "0  Star Wars: Episode VI Return of the Jedi   \n",
       "1                                       NaN   \n",
       "2                                       NaN   \n",
       "3  Star Wars: Episode VI Return of the Jedi   \n",
       "4  Star Wars: Episode VI Return of the Jedi   \n",
       "\n",
       "   Please rank the Star Wars films in order of preference with 1 being your favorite film in the franchise and 6 being your least favorite film.  \\\n",
       "0                                                3.0                                                                                               \n",
       "1                                                NaN                                                                                               \n",
       "2                                                1.0                                                                                               \n",
       "3                                                5.0                                                                                               \n",
       "4                                                5.0                                                                                               \n",
       "\n",
       "            ...                    Unnamed: 28  \\\n",
       "0           ...                 Very favorably   \n",
       "1           ...                            NaN   \n",
       "2           ...               Unfamiliar (N/A)   \n",
       "3           ...                 Very favorably   \n",
       "4           ...             Somewhat favorably   \n",
       "\n",
       "        Which character shot first?  \\\n",
       "0  I don't understand this question   \n",
       "1                               NaN   \n",
       "2  I don't understand this question   \n",
       "3  I don't understand this question   \n",
       "4                            Greedo   \n",
       "\n",
       "   Are you familiar with the Expanded Universe?  \\\n",
       "0                                           Yes   \n",
       "1                                           NaN   \n",
       "2                                            No   \n",
       "3                                            No   \n",
       "4                                           Yes   \n",
       "\n",
       "   Do you consider yourself to be a fan of the Expanded Universe?  \\\n",
       "0                                                 No                \n",
       "1                                                NaN                \n",
       "2                                                NaN                \n",
       "3                                                NaN                \n",
       "4                                                 No                \n",
       "\n",
       "   Do you consider yourself to be a fan of the Star Trek franchise? Gender  \\\n",
       "0                                                 No                  Male   \n",
       "1                                                Yes                  Male   \n",
       "2                                                 No                  Male   \n",
       "3                                                Yes                  Male   \n",
       "4                                                 No                  Male   \n",
       "\n",
       "     Age     Household Income                         Education  \\\n",
       "0  18-29                  NaN                High school degree   \n",
       "1  18-29         $0 - $24,999                   Bachelor degree   \n",
       "2  18-29         $0 - $24,999                High school degree   \n",
       "3  18-29  $100,000 - $149,999  Some college or Associate degree   \n",
       "4  18-29  $100,000 - $149,999  Some college or Associate degree   \n",
       "\n",
       "  Location (Census Region)  \n",
       "0           South Atlantic  \n",
       "1       West South Central  \n",
       "2       West North Central  \n",
       "3       West North Central  \n",
       "4       West North Central  \n",
       "\n",
       "[5 rows x 38 columns]"
      ]
     },
     "execution_count": 40,
     "metadata": {},
     "output_type": "execute_result"
    }
   ],
   "source": [
    "star_wars.head()"
   ]
  },
  {
   "cell_type": "code",
   "execution_count": 41,
   "metadata": {},
   "outputs": [
    {
     "data": {
      "text/plain": [
       "Index(['RespondentID',\n",
       "       'Have you seen any of the 6 films in the Star Wars franchise?',\n",
       "       'Do you consider yourself to be a fan of the Star Wars film franchise?',\n",
       "       'Which of the following Star Wars films have you seen? Please select all that apply.',\n",
       "       'Unnamed: 4', 'Unnamed: 5', 'Unnamed: 6', 'Unnamed: 7', 'Unnamed: 8',\n",
       "       'Please rank the Star Wars films in order of preference with 1 being your favorite film in the franchise and 6 being your least favorite film.',\n",
       "       'Unnamed: 10', 'Unnamed: 11', 'Unnamed: 12', 'Unnamed: 13',\n",
       "       'Unnamed: 14',\n",
       "       'Please state whether you view the following characters favorably, unfavorably, or are unfamiliar with him/her.',\n",
       "       'Unnamed: 16', 'Unnamed: 17', 'Unnamed: 18', 'Unnamed: 19',\n",
       "       'Unnamed: 20', 'Unnamed: 21', 'Unnamed: 22', 'Unnamed: 23',\n",
       "       'Unnamed: 24', 'Unnamed: 25', 'Unnamed: 26', 'Unnamed: 27',\n",
       "       'Unnamed: 28', 'Which character shot first?',\n",
       "       'Are you familiar with the Expanded Universe?',\n",
       "       'Do you consider yourself to be a fan of the Expanded Universe?',\n",
       "       'Do you consider yourself to be a fan of the Star Trek franchise?',\n",
       "       'Gender', 'Age', 'Household Income', 'Education',\n",
       "       'Location (Census Region)'],\n",
       "      dtype='object')"
      ]
     },
     "execution_count": 41,
     "metadata": {},
     "output_type": "execute_result"
    }
   ],
   "source": [
    "star_wars.columns"
   ]
  },
  {
   "cell_type": "markdown",
   "metadata": {},
   "source": [
    "So a major problem we notice is that the characters' names appears in unnamend columns and we should understand what they mean. We will address this later.\n"
   ]
  },
  {
   "cell_type": "markdown",
   "metadata": {},
   "source": [
    "## Claning columns: converting yes/no asnwers to boolean\n",
    "Now we proceed to clean the 2nd and 3rd columns to boolean values so they're easier to analyse"
   ]
  },
  {
   "cell_type": "code",
   "execution_count": 42,
   "metadata": {},
   "outputs": [
    {
     "data": {
      "text/plain": [
       "Yes    936\n",
       "No     250\n",
       "Name: Have you seen any of the 6 films in the Star Wars franchise?, dtype: int64"
      ]
     },
     "execution_count": 42,
     "metadata": {},
     "output_type": "execute_result"
    }
   ],
   "source": [
    "star_wars.iloc[:,1].value_counts(dropna=False)"
   ]
  },
  {
   "cell_type": "code",
   "execution_count": 43,
   "metadata": {
    "scrolled": false
   },
   "outputs": [
    {
     "data": {
      "text/plain": [
       "Yes    552\n",
       "NaN    350\n",
       "No     284\n",
       "Name: Do you consider yourself to be a fan of the Star Wars film franchise?, dtype: int64"
      ]
     },
     "execution_count": 43,
     "metadata": {},
     "output_type": "execute_result"
    }
   ],
   "source": [
    "star_wars.iloc[:,2].value_counts(dropna=False)"
   ]
  },
  {
   "cell_type": "code",
   "execution_count": 44,
   "metadata": {
    "scrolled": false
   },
   "outputs": [
    {
     "data": {
      "text/plain": [
       "No     615\n",
       "NaN    358\n",
       "Yes    213\n",
       "Name: Are you familiar with the Expanded Universe?, dtype: int64"
      ]
     },
     "execution_count": 44,
     "metadata": {},
     "output_type": "execute_result"
    }
   ],
   "source": [
    "star_wars.iloc[:,30].value_counts(dropna=False)"
   ]
  },
  {
   "cell_type": "code",
   "execution_count": 45,
   "metadata": {
    "scrolled": false
   },
   "outputs": [
    {
     "data": {
      "text/plain": [
       "NaN    973\n",
       "No     114\n",
       "Yes     99\n",
       "Name: Do you consider yourself to be a fan of the Expanded Universe?, dtype: int64"
      ]
     },
     "execution_count": 45,
     "metadata": {},
     "output_type": "execute_result"
    }
   ],
   "source": [
    "star_wars.iloc[:,31].value_counts(dropna=False)"
   ]
  },
  {
   "cell_type": "code",
   "execution_count": 46,
   "metadata": {},
   "outputs": [
    {
     "data": {
      "text/plain": [
       "No     641\n",
       "Yes    427\n",
       "NaN    118\n",
       "Name: Do you consider yourself to be a fan of the Star Trek franchise?, dtype: int64"
      ]
     },
     "execution_count": 46,
     "metadata": {},
     "output_type": "execute_result"
    }
   ],
   "source": [
    "star_wars.iloc[:,32].value_counts(dropna=False)"
   ]
  },
  {
   "cell_type": "code",
   "execution_count": 47,
   "metadata": {},
   "outputs": [],
   "source": [
    "#Dictionary to convert yes/no to boolean values\n",
    "\n",
    "yes_no = {\n",
    "    \"Yes\": True,\n",
    "    \"No\": False\n",
    "         }\n",
    "\n",
    "#Apply the dictionary to the selected columns\n",
    "star_wars.iloc[:,1] = star_wars.iloc[:,1].map(yes_no) # SW seen\n",
    "star_wars.iloc[:,2] = star_wars.iloc[:,2].map(yes_no) # SW fan\n",
    "star_wars.iloc[:,30] = star_wars.iloc[:,30].map(yes_no) # Familiar with EU\n",
    "star_wars.iloc[:,31] = star_wars.iloc[:,31].map(yes_no) # EU fan\n",
    "star_wars.iloc[:,32] = star_wars.iloc[:,32].map(yes_no) # ST fan"
   ]
  },
  {
   "cell_type": "markdown",
   "metadata": {},
   "source": [
    "## Cleaning columns: episodes seen\n",
    "4th to 9th columns ask about which film has been seen by the participant but the answer is the name of each film. Let's convert the values to boolean, meaning that a non-null cell is True, a null cell is False"
   ]
  },
  {
   "cell_type": "code",
   "execution_count": 48,
   "metadata": {},
   "outputs": [],
   "source": [
    "def episodes(x):\n",
    "    if pd.isnull(x):\n",
    "        return False\n",
    "    else:\n",
    "        return True\n",
    "\n",
    "star_wars.iloc[:,3:9] = star_wars.iloc[:,3:9].applymap(episodes)"
   ]
  },
  {
   "cell_type": "code",
   "execution_count": 49,
   "metadata": {
    "scrolled": true
   },
   "outputs": [
    {
     "data": {
      "text/html": [
       "<div>\n",
       "<style scoped>\n",
       "    .dataframe tbody tr th:only-of-type {\n",
       "        vertical-align: middle;\n",
       "    }\n",
       "\n",
       "    .dataframe tbody tr th {\n",
       "        vertical-align: top;\n",
       "    }\n",
       "\n",
       "    .dataframe thead th {\n",
       "        text-align: right;\n",
       "    }\n",
       "</style>\n",
       "<table border=\"1\" class=\"dataframe\">\n",
       "  <thead>\n",
       "    <tr style=\"text-align: right;\">\n",
       "      <th></th>\n",
       "      <th>RespondentID</th>\n",
       "      <th>Have you seen any of the 6 films in the Star Wars franchise?</th>\n",
       "      <th>Do you consider yourself to be a fan of the Star Wars film franchise?</th>\n",
       "      <th>seen_1</th>\n",
       "      <th>seen_2</th>\n",
       "      <th>seen_3</th>\n",
       "      <th>seen_4</th>\n",
       "      <th>seen_5</th>\n",
       "      <th>seen_6</th>\n",
       "      <th>Please rank the Star Wars films in order of preference with 1 being your favorite film in the franchise and 6 being your least favorite film.</th>\n",
       "      <th>...</th>\n",
       "      <th>Unnamed: 28</th>\n",
       "      <th>Which character shot first?</th>\n",
       "      <th>Are you familiar with the Expanded Universe?</th>\n",
       "      <th>Do you consider yourself to be a fan of the Expanded Universe?</th>\n",
       "      <th>Do you consider yourself to be a fan of the Star Trek franchise?</th>\n",
       "      <th>Gender</th>\n",
       "      <th>Age</th>\n",
       "      <th>Household Income</th>\n",
       "      <th>Education</th>\n",
       "      <th>Location (Census Region)</th>\n",
       "    </tr>\n",
       "  </thead>\n",
       "  <tbody>\n",
       "    <tr>\n",
       "      <th>0</th>\n",
       "      <td>3292879998</td>\n",
       "      <td>True</td>\n",
       "      <td>True</td>\n",
       "      <td>True</td>\n",
       "      <td>True</td>\n",
       "      <td>True</td>\n",
       "      <td>True</td>\n",
       "      <td>True</td>\n",
       "      <td>True</td>\n",
       "      <td>3.0</td>\n",
       "      <td>...</td>\n",
       "      <td>Very favorably</td>\n",
       "      <td>I don't understand this question</td>\n",
       "      <td>True</td>\n",
       "      <td>False</td>\n",
       "      <td>False</td>\n",
       "      <td>Male</td>\n",
       "      <td>18-29</td>\n",
       "      <td>NaN</td>\n",
       "      <td>High school degree</td>\n",
       "      <td>South Atlantic</td>\n",
       "    </tr>\n",
       "    <tr>\n",
       "      <th>1</th>\n",
       "      <td>3292879538</td>\n",
       "      <td>False</td>\n",
       "      <td>NaN</td>\n",
       "      <td>False</td>\n",
       "      <td>False</td>\n",
       "      <td>False</td>\n",
       "      <td>False</td>\n",
       "      <td>False</td>\n",
       "      <td>False</td>\n",
       "      <td>NaN</td>\n",
       "      <td>...</td>\n",
       "      <td>NaN</td>\n",
       "      <td>NaN</td>\n",
       "      <td>NaN</td>\n",
       "      <td>NaN</td>\n",
       "      <td>True</td>\n",
       "      <td>Male</td>\n",
       "      <td>18-29</td>\n",
       "      <td>$0 - $24,999</td>\n",
       "      <td>Bachelor degree</td>\n",
       "      <td>West South Central</td>\n",
       "    </tr>\n",
       "    <tr>\n",
       "      <th>2</th>\n",
       "      <td>3292765271</td>\n",
       "      <td>True</td>\n",
       "      <td>False</td>\n",
       "      <td>True</td>\n",
       "      <td>True</td>\n",
       "      <td>True</td>\n",
       "      <td>False</td>\n",
       "      <td>False</td>\n",
       "      <td>False</td>\n",
       "      <td>1.0</td>\n",
       "      <td>...</td>\n",
       "      <td>Unfamiliar (N/A)</td>\n",
       "      <td>I don't understand this question</td>\n",
       "      <td>False</td>\n",
       "      <td>NaN</td>\n",
       "      <td>False</td>\n",
       "      <td>Male</td>\n",
       "      <td>18-29</td>\n",
       "      <td>$0 - $24,999</td>\n",
       "      <td>High school degree</td>\n",
       "      <td>West North Central</td>\n",
       "    </tr>\n",
       "    <tr>\n",
       "      <th>3</th>\n",
       "      <td>3292763116</td>\n",
       "      <td>True</td>\n",
       "      <td>True</td>\n",
       "      <td>True</td>\n",
       "      <td>True</td>\n",
       "      <td>True</td>\n",
       "      <td>True</td>\n",
       "      <td>True</td>\n",
       "      <td>True</td>\n",
       "      <td>5.0</td>\n",
       "      <td>...</td>\n",
       "      <td>Very favorably</td>\n",
       "      <td>I don't understand this question</td>\n",
       "      <td>False</td>\n",
       "      <td>NaN</td>\n",
       "      <td>True</td>\n",
       "      <td>Male</td>\n",
       "      <td>18-29</td>\n",
       "      <td>$100,000 - $149,999</td>\n",
       "      <td>Some college or Associate degree</td>\n",
       "      <td>West North Central</td>\n",
       "    </tr>\n",
       "    <tr>\n",
       "      <th>4</th>\n",
       "      <td>3292731220</td>\n",
       "      <td>True</td>\n",
       "      <td>True</td>\n",
       "      <td>True</td>\n",
       "      <td>True</td>\n",
       "      <td>True</td>\n",
       "      <td>True</td>\n",
       "      <td>True</td>\n",
       "      <td>True</td>\n",
       "      <td>5.0</td>\n",
       "      <td>...</td>\n",
       "      <td>Somewhat favorably</td>\n",
       "      <td>Greedo</td>\n",
       "      <td>True</td>\n",
       "      <td>False</td>\n",
       "      <td>False</td>\n",
       "      <td>Male</td>\n",
       "      <td>18-29</td>\n",
       "      <td>$100,000 - $149,999</td>\n",
       "      <td>Some college or Associate degree</td>\n",
       "      <td>West North Central</td>\n",
       "    </tr>\n",
       "  </tbody>\n",
       "</table>\n",
       "<p>5 rows × 38 columns</p>\n",
       "</div>"
      ],
      "text/plain": [
       "   RespondentID  Have you seen any of the 6 films in the Star Wars franchise?  \\\n",
       "0    3292879998                                               True              \n",
       "1    3292879538                                              False              \n",
       "2    3292765271                                               True              \n",
       "3    3292763116                                               True              \n",
       "4    3292731220                                               True              \n",
       "\n",
       "  Do you consider yourself to be a fan of the Star Wars film franchise?  \\\n",
       "0                                               True                      \n",
       "1                                                NaN                      \n",
       "2                                              False                      \n",
       "3                                               True                      \n",
       "4                                               True                      \n",
       "\n",
       "   seen_1  seen_2  seen_3  seen_4  seen_5  seen_6  \\\n",
       "0    True    True    True    True    True    True   \n",
       "1   False   False   False   False   False   False   \n",
       "2    True    True    True   False   False   False   \n",
       "3    True    True    True    True    True    True   \n",
       "4    True    True    True    True    True    True   \n",
       "\n",
       "   Please rank the Star Wars films in order of preference with 1 being your favorite film in the franchise and 6 being your least favorite film.  \\\n",
       "0                                                3.0                                                                                               \n",
       "1                                                NaN                                                                                               \n",
       "2                                                1.0                                                                                               \n",
       "3                                                5.0                                                                                               \n",
       "4                                                5.0                                                                                               \n",
       "\n",
       "            ...                    Unnamed: 28  \\\n",
       "0           ...                 Very favorably   \n",
       "1           ...                            NaN   \n",
       "2           ...               Unfamiliar (N/A)   \n",
       "3           ...                 Very favorably   \n",
       "4           ...             Somewhat favorably   \n",
       "\n",
       "        Which character shot first?  \\\n",
       "0  I don't understand this question   \n",
       "1                               NaN   \n",
       "2  I don't understand this question   \n",
       "3  I don't understand this question   \n",
       "4                            Greedo   \n",
       "\n",
       "   Are you familiar with the Expanded Universe?  \\\n",
       "0                                          True   \n",
       "1                                           NaN   \n",
       "2                                         False   \n",
       "3                                         False   \n",
       "4                                          True   \n",
       "\n",
       "   Do you consider yourself to be a fan of the Expanded Universe?  \\\n",
       "0                                              False                \n",
       "1                                                NaN                \n",
       "2                                                NaN                \n",
       "3                                                NaN                \n",
       "4                                              False                \n",
       "\n",
       "   Do you consider yourself to be a fan of the Star Trek franchise? Gender  \\\n",
       "0                                              False                  Male   \n",
       "1                                               True                  Male   \n",
       "2                                              False                  Male   \n",
       "3                                               True                  Male   \n",
       "4                                              False                  Male   \n",
       "\n",
       "     Age     Household Income                         Education  \\\n",
       "0  18-29                  NaN                High school degree   \n",
       "1  18-29         $0 - $24,999                   Bachelor degree   \n",
       "2  18-29         $0 - $24,999                High school degree   \n",
       "3  18-29  $100,000 - $149,999  Some college or Associate degree   \n",
       "4  18-29  $100,000 - $149,999  Some college or Associate degree   \n",
       "\n",
       "  Location (Census Region)  \n",
       "0           South Atlantic  \n",
       "1       West South Central  \n",
       "2       West North Central  \n",
       "3       West North Central  \n",
       "4       West North Central  \n",
       "\n",
       "[5 rows x 38 columns]"
      ]
     },
     "execution_count": 49,
     "metadata": {},
     "output_type": "execute_result"
    }
   ],
   "source": [
    "#Creating a dictionary to rename episodes seen column names\n",
    "\n",
    "seen_renaming = {}\n",
    "episode = 1\n",
    "for col in star_wars.columns[3:9]:\n",
    "    new_name = \"seen_{}\".format(episode)\n",
    "    seen_renaming[col] = new_name\n",
    "    episode +=1\n",
    "\n",
    "#renaming episodes columns    \n",
    "star_wars.rename(columns = seen_renaming, inplace = True)\n",
    "star_wars.head()"
   ]
  },
  {
   "cell_type": "markdown",
   "metadata": {},
   "source": [
    "## Cleaning columns: episode ranking\n",
    "Now we have clean columns until the 9th one. \n",
    "Let's proceed to clean the 10th to 15th columns, where it is asked to rank the favourite films. We have to convert them to numeric values and set the column names to more straightforward."
   ]
  },
  {
   "cell_type": "code",
   "execution_count": 50,
   "metadata": {},
   "outputs": [],
   "source": [
    "star_wars.iloc[:,9:15] = star_wars.iloc[:,9:15].astype(float)"
   ]
  },
  {
   "cell_type": "code",
   "execution_count": 51,
   "metadata": {
    "scrolled": true
   },
   "outputs": [
    {
     "data": {
      "text/html": [
       "<div>\n",
       "<style scoped>\n",
       "    .dataframe tbody tr th:only-of-type {\n",
       "        vertical-align: middle;\n",
       "    }\n",
       "\n",
       "    .dataframe tbody tr th {\n",
       "        vertical-align: top;\n",
       "    }\n",
       "\n",
       "    .dataframe thead th {\n",
       "        text-align: right;\n",
       "    }\n",
       "</style>\n",
       "<table border=\"1\" class=\"dataframe\">\n",
       "  <thead>\n",
       "    <tr style=\"text-align: right;\">\n",
       "      <th></th>\n",
       "      <th>RespondentID</th>\n",
       "      <th>Have you seen any of the 6 films in the Star Wars franchise?</th>\n",
       "      <th>Do you consider yourself to be a fan of the Star Wars film franchise?</th>\n",
       "      <th>seen_1</th>\n",
       "      <th>seen_2</th>\n",
       "      <th>seen_3</th>\n",
       "      <th>seen_4</th>\n",
       "      <th>seen_5</th>\n",
       "      <th>seen_6</th>\n",
       "      <th>ranking_1</th>\n",
       "      <th>...</th>\n",
       "      <th>Unnamed: 28</th>\n",
       "      <th>Which character shot first?</th>\n",
       "      <th>Are you familiar with the Expanded Universe?</th>\n",
       "      <th>Do you consider yourself to be a fan of the Expanded Universe?</th>\n",
       "      <th>Do you consider yourself to be a fan of the Star Trek franchise?</th>\n",
       "      <th>Gender</th>\n",
       "      <th>Age</th>\n",
       "      <th>Household Income</th>\n",
       "      <th>Education</th>\n",
       "      <th>Location (Census Region)</th>\n",
       "    </tr>\n",
       "  </thead>\n",
       "  <tbody>\n",
       "    <tr>\n",
       "      <th>0</th>\n",
       "      <td>3292879998</td>\n",
       "      <td>True</td>\n",
       "      <td>True</td>\n",
       "      <td>True</td>\n",
       "      <td>True</td>\n",
       "      <td>True</td>\n",
       "      <td>True</td>\n",
       "      <td>True</td>\n",
       "      <td>True</td>\n",
       "      <td>3.0</td>\n",
       "      <td>...</td>\n",
       "      <td>Very favorably</td>\n",
       "      <td>I don't understand this question</td>\n",
       "      <td>True</td>\n",
       "      <td>False</td>\n",
       "      <td>False</td>\n",
       "      <td>Male</td>\n",
       "      <td>18-29</td>\n",
       "      <td>NaN</td>\n",
       "      <td>High school degree</td>\n",
       "      <td>South Atlantic</td>\n",
       "    </tr>\n",
       "    <tr>\n",
       "      <th>1</th>\n",
       "      <td>3292879538</td>\n",
       "      <td>False</td>\n",
       "      <td>NaN</td>\n",
       "      <td>False</td>\n",
       "      <td>False</td>\n",
       "      <td>False</td>\n",
       "      <td>False</td>\n",
       "      <td>False</td>\n",
       "      <td>False</td>\n",
       "      <td>NaN</td>\n",
       "      <td>...</td>\n",
       "      <td>NaN</td>\n",
       "      <td>NaN</td>\n",
       "      <td>NaN</td>\n",
       "      <td>NaN</td>\n",
       "      <td>True</td>\n",
       "      <td>Male</td>\n",
       "      <td>18-29</td>\n",
       "      <td>$0 - $24,999</td>\n",
       "      <td>Bachelor degree</td>\n",
       "      <td>West South Central</td>\n",
       "    </tr>\n",
       "    <tr>\n",
       "      <th>2</th>\n",
       "      <td>3292765271</td>\n",
       "      <td>True</td>\n",
       "      <td>False</td>\n",
       "      <td>True</td>\n",
       "      <td>True</td>\n",
       "      <td>True</td>\n",
       "      <td>False</td>\n",
       "      <td>False</td>\n",
       "      <td>False</td>\n",
       "      <td>1.0</td>\n",
       "      <td>...</td>\n",
       "      <td>Unfamiliar (N/A)</td>\n",
       "      <td>I don't understand this question</td>\n",
       "      <td>False</td>\n",
       "      <td>NaN</td>\n",
       "      <td>False</td>\n",
       "      <td>Male</td>\n",
       "      <td>18-29</td>\n",
       "      <td>$0 - $24,999</td>\n",
       "      <td>High school degree</td>\n",
       "      <td>West North Central</td>\n",
       "    </tr>\n",
       "    <tr>\n",
       "      <th>3</th>\n",
       "      <td>3292763116</td>\n",
       "      <td>True</td>\n",
       "      <td>True</td>\n",
       "      <td>True</td>\n",
       "      <td>True</td>\n",
       "      <td>True</td>\n",
       "      <td>True</td>\n",
       "      <td>True</td>\n",
       "      <td>True</td>\n",
       "      <td>5.0</td>\n",
       "      <td>...</td>\n",
       "      <td>Very favorably</td>\n",
       "      <td>I don't understand this question</td>\n",
       "      <td>False</td>\n",
       "      <td>NaN</td>\n",
       "      <td>True</td>\n",
       "      <td>Male</td>\n",
       "      <td>18-29</td>\n",
       "      <td>$100,000 - $149,999</td>\n",
       "      <td>Some college or Associate degree</td>\n",
       "      <td>West North Central</td>\n",
       "    </tr>\n",
       "    <tr>\n",
       "      <th>4</th>\n",
       "      <td>3292731220</td>\n",
       "      <td>True</td>\n",
       "      <td>True</td>\n",
       "      <td>True</td>\n",
       "      <td>True</td>\n",
       "      <td>True</td>\n",
       "      <td>True</td>\n",
       "      <td>True</td>\n",
       "      <td>True</td>\n",
       "      <td>5.0</td>\n",
       "      <td>...</td>\n",
       "      <td>Somewhat favorably</td>\n",
       "      <td>Greedo</td>\n",
       "      <td>True</td>\n",
       "      <td>False</td>\n",
       "      <td>False</td>\n",
       "      <td>Male</td>\n",
       "      <td>18-29</td>\n",
       "      <td>$100,000 - $149,999</td>\n",
       "      <td>Some college or Associate degree</td>\n",
       "      <td>West North Central</td>\n",
       "    </tr>\n",
       "  </tbody>\n",
       "</table>\n",
       "<p>5 rows × 38 columns</p>\n",
       "</div>"
      ],
      "text/plain": [
       "   RespondentID  Have you seen any of the 6 films in the Star Wars franchise?  \\\n",
       "0    3292879998                                               True              \n",
       "1    3292879538                                              False              \n",
       "2    3292765271                                               True              \n",
       "3    3292763116                                               True              \n",
       "4    3292731220                                               True              \n",
       "\n",
       "  Do you consider yourself to be a fan of the Star Wars film franchise?  \\\n",
       "0                                               True                      \n",
       "1                                                NaN                      \n",
       "2                                              False                      \n",
       "3                                               True                      \n",
       "4                                               True                      \n",
       "\n",
       "   seen_1  seen_2  seen_3  seen_4  seen_5  seen_6  ranking_1  \\\n",
       "0    True    True    True    True    True    True        3.0   \n",
       "1   False   False   False   False   False   False        NaN   \n",
       "2    True    True    True   False   False   False        1.0   \n",
       "3    True    True    True    True    True    True        5.0   \n",
       "4    True    True    True    True    True    True        5.0   \n",
       "\n",
       "            ...                    Unnamed: 28  \\\n",
       "0           ...                 Very favorably   \n",
       "1           ...                            NaN   \n",
       "2           ...               Unfamiliar (N/A)   \n",
       "3           ...                 Very favorably   \n",
       "4           ...             Somewhat favorably   \n",
       "\n",
       "        Which character shot first?  \\\n",
       "0  I don't understand this question   \n",
       "1                               NaN   \n",
       "2  I don't understand this question   \n",
       "3  I don't understand this question   \n",
       "4                            Greedo   \n",
       "\n",
       "   Are you familiar with the Expanded Universe?  \\\n",
       "0                                          True   \n",
       "1                                           NaN   \n",
       "2                                         False   \n",
       "3                                         False   \n",
       "4                                          True   \n",
       "\n",
       "   Do you consider yourself to be a fan of the Expanded Universe?  \\\n",
       "0                                              False                \n",
       "1                                                NaN                \n",
       "2                                                NaN                \n",
       "3                                                NaN                \n",
       "4                                              False                \n",
       "\n",
       "   Do you consider yourself to be a fan of the Star Trek franchise? Gender  \\\n",
       "0                                              False                  Male   \n",
       "1                                               True                  Male   \n",
       "2                                              False                  Male   \n",
       "3                                               True                  Male   \n",
       "4                                              False                  Male   \n",
       "\n",
       "     Age     Household Income                         Education  \\\n",
       "0  18-29                  NaN                High school degree   \n",
       "1  18-29         $0 - $24,999                   Bachelor degree   \n",
       "2  18-29         $0 - $24,999                High school degree   \n",
       "3  18-29  $100,000 - $149,999  Some college or Associate degree   \n",
       "4  18-29  $100,000 - $149,999  Some college or Associate degree   \n",
       "\n",
       "  Location (Census Region)  \n",
       "0           South Atlantic  \n",
       "1       West South Central  \n",
       "2       West North Central  \n",
       "3       West North Central  \n",
       "4       West North Central  \n",
       "\n",
       "[5 rows x 38 columns]"
      ]
     },
     "execution_count": 51,
     "metadata": {},
     "output_type": "execute_result"
    }
   ],
   "source": [
    "#Creating a dictionary to rename episode ranking columns\n",
    "\n",
    "ranking_renaming = {}\n",
    "episode = 1\n",
    "for col in star_wars.columns[9:15]:\n",
    "    new_name = \"ranking_{}\".format(episode)\n",
    "    ranking_renaming[col] = new_name\n",
    "    episode += 1\n",
    "\n",
    "#renaming ranking columns    \n",
    "star_wars.rename(columns = ranking_renaming, inplace = True)\n",
    "star_wars.head()"
   ]
  },
  {
   "cell_type": "markdown",
   "metadata": {},
   "source": [
    "## Cleaning columns: character favourability"
   ]
  },
  {
   "cell_type": "code",
   "execution_count": 52,
   "metadata": {
    "scrolled": false
   },
   "outputs": [
    {
     "data": {
      "text/plain": [
       "Index(['Please state whether you view the following characters favorably, unfavorably, or are unfamiliar with him/her.',\n",
       "       'Unnamed: 16', 'Unnamed: 17', 'Unnamed: 18', 'Unnamed: 19',\n",
       "       'Unnamed: 20', 'Unnamed: 21', 'Unnamed: 22', 'Unnamed: 23',\n",
       "       'Unnamed: 24', 'Unnamed: 25', 'Unnamed: 26', 'Unnamed: 27',\n",
       "       'Unnamed: 28'],\n",
       "      dtype='object')"
      ]
     },
     "execution_count": 52,
     "metadata": {},
     "output_type": "execute_result"
    }
   ],
   "source": [
    "star_wars.iloc[:, 15:29].columns"
   ]
  },
  {
   "cell_type": "code",
   "execution_count": 53,
   "metadata": {
    "scrolled": true
   },
   "outputs": [
    {
     "data": {
      "text/html": [
       "<div>\n",
       "<style scoped>\n",
       "    .dataframe tbody tr th:only-of-type {\n",
       "        vertical-align: middle;\n",
       "    }\n",
       "\n",
       "    .dataframe tbody tr th {\n",
       "        vertical-align: top;\n",
       "    }\n",
       "\n",
       "    .dataframe thead th {\n",
       "        text-align: right;\n",
       "    }\n",
       "</style>\n",
       "<table border=\"1\" class=\"dataframe\">\n",
       "  <thead>\n",
       "    <tr style=\"text-align: right;\">\n",
       "      <th></th>\n",
       "      <th>RespondentID</th>\n",
       "      <th>Have you seen any of the 6 films in the Star Wars franchise?</th>\n",
       "      <th>Do you consider yourself to be a fan of the Star Wars film franchise?</th>\n",
       "      <th>seen_1</th>\n",
       "      <th>seen_2</th>\n",
       "      <th>seen_3</th>\n",
       "      <th>seen_4</th>\n",
       "      <th>seen_5</th>\n",
       "      <th>seen_6</th>\n",
       "      <th>ranking_1</th>\n",
       "      <th>...</th>\n",
       "      <th>Yoda</th>\n",
       "      <th>Which character shot first?</th>\n",
       "      <th>Are you familiar with the Expanded Universe?</th>\n",
       "      <th>Do you consider yourself to be a fan of the Expanded Universe?</th>\n",
       "      <th>Do you consider yourself to be a fan of the Star Trek franchise?</th>\n",
       "      <th>Gender</th>\n",
       "      <th>Age</th>\n",
       "      <th>Household Income</th>\n",
       "      <th>Education</th>\n",
       "      <th>Location (Census Region)</th>\n",
       "    </tr>\n",
       "  </thead>\n",
       "  <tbody>\n",
       "    <tr>\n",
       "      <th>0</th>\n",
       "      <td>3292879998</td>\n",
       "      <td>True</td>\n",
       "      <td>True</td>\n",
       "      <td>True</td>\n",
       "      <td>True</td>\n",
       "      <td>True</td>\n",
       "      <td>True</td>\n",
       "      <td>True</td>\n",
       "      <td>True</td>\n",
       "      <td>3.0</td>\n",
       "      <td>...</td>\n",
       "      <td>Very favorably</td>\n",
       "      <td>I don't understand this question</td>\n",
       "      <td>True</td>\n",
       "      <td>False</td>\n",
       "      <td>False</td>\n",
       "      <td>Male</td>\n",
       "      <td>18-29</td>\n",
       "      <td>NaN</td>\n",
       "      <td>High school degree</td>\n",
       "      <td>South Atlantic</td>\n",
       "    </tr>\n",
       "    <tr>\n",
       "      <th>1</th>\n",
       "      <td>3292879538</td>\n",
       "      <td>False</td>\n",
       "      <td>NaN</td>\n",
       "      <td>False</td>\n",
       "      <td>False</td>\n",
       "      <td>False</td>\n",
       "      <td>False</td>\n",
       "      <td>False</td>\n",
       "      <td>False</td>\n",
       "      <td>NaN</td>\n",
       "      <td>...</td>\n",
       "      <td>NaN</td>\n",
       "      <td>NaN</td>\n",
       "      <td>NaN</td>\n",
       "      <td>NaN</td>\n",
       "      <td>True</td>\n",
       "      <td>Male</td>\n",
       "      <td>18-29</td>\n",
       "      <td>$0 - $24,999</td>\n",
       "      <td>Bachelor degree</td>\n",
       "      <td>West South Central</td>\n",
       "    </tr>\n",
       "    <tr>\n",
       "      <th>2</th>\n",
       "      <td>3292765271</td>\n",
       "      <td>True</td>\n",
       "      <td>False</td>\n",
       "      <td>True</td>\n",
       "      <td>True</td>\n",
       "      <td>True</td>\n",
       "      <td>False</td>\n",
       "      <td>False</td>\n",
       "      <td>False</td>\n",
       "      <td>1.0</td>\n",
       "      <td>...</td>\n",
       "      <td>Unfamiliar (N/A)</td>\n",
       "      <td>I don't understand this question</td>\n",
       "      <td>False</td>\n",
       "      <td>NaN</td>\n",
       "      <td>False</td>\n",
       "      <td>Male</td>\n",
       "      <td>18-29</td>\n",
       "      <td>$0 - $24,999</td>\n",
       "      <td>High school degree</td>\n",
       "      <td>West North Central</td>\n",
       "    </tr>\n",
       "    <tr>\n",
       "      <th>3</th>\n",
       "      <td>3292763116</td>\n",
       "      <td>True</td>\n",
       "      <td>True</td>\n",
       "      <td>True</td>\n",
       "      <td>True</td>\n",
       "      <td>True</td>\n",
       "      <td>True</td>\n",
       "      <td>True</td>\n",
       "      <td>True</td>\n",
       "      <td>5.0</td>\n",
       "      <td>...</td>\n",
       "      <td>Very favorably</td>\n",
       "      <td>I don't understand this question</td>\n",
       "      <td>False</td>\n",
       "      <td>NaN</td>\n",
       "      <td>True</td>\n",
       "      <td>Male</td>\n",
       "      <td>18-29</td>\n",
       "      <td>$100,000 - $149,999</td>\n",
       "      <td>Some college or Associate degree</td>\n",
       "      <td>West North Central</td>\n",
       "    </tr>\n",
       "    <tr>\n",
       "      <th>4</th>\n",
       "      <td>3292731220</td>\n",
       "      <td>True</td>\n",
       "      <td>True</td>\n",
       "      <td>True</td>\n",
       "      <td>True</td>\n",
       "      <td>True</td>\n",
       "      <td>True</td>\n",
       "      <td>True</td>\n",
       "      <td>True</td>\n",
       "      <td>5.0</td>\n",
       "      <td>...</td>\n",
       "      <td>Somewhat favorably</td>\n",
       "      <td>Greedo</td>\n",
       "      <td>True</td>\n",
       "      <td>False</td>\n",
       "      <td>False</td>\n",
       "      <td>Male</td>\n",
       "      <td>18-29</td>\n",
       "      <td>$100,000 - $149,999</td>\n",
       "      <td>Some college or Associate degree</td>\n",
       "      <td>West North Central</td>\n",
       "    </tr>\n",
       "  </tbody>\n",
       "</table>\n",
       "<p>5 rows × 38 columns</p>\n",
       "</div>"
      ],
      "text/plain": [
       "   RespondentID  Have you seen any of the 6 films in the Star Wars franchise?  \\\n",
       "0    3292879998                                               True              \n",
       "1    3292879538                                              False              \n",
       "2    3292765271                                               True              \n",
       "3    3292763116                                               True              \n",
       "4    3292731220                                               True              \n",
       "\n",
       "  Do you consider yourself to be a fan of the Star Wars film franchise?  \\\n",
       "0                                               True                      \n",
       "1                                                NaN                      \n",
       "2                                              False                      \n",
       "3                                               True                      \n",
       "4                                               True                      \n",
       "\n",
       "   seen_1  seen_2  seen_3  seen_4  seen_5  seen_6  ranking_1  \\\n",
       "0    True    True    True    True    True    True        3.0   \n",
       "1   False   False   False   False   False   False        NaN   \n",
       "2    True    True    True   False   False   False        1.0   \n",
       "3    True    True    True    True    True    True        5.0   \n",
       "4    True    True    True    True    True    True        5.0   \n",
       "\n",
       "            ...                           Yoda  \\\n",
       "0           ...                 Very favorably   \n",
       "1           ...                            NaN   \n",
       "2           ...               Unfamiliar (N/A)   \n",
       "3           ...                 Very favorably   \n",
       "4           ...             Somewhat favorably   \n",
       "\n",
       "        Which character shot first?  \\\n",
       "0  I don't understand this question   \n",
       "1                               NaN   \n",
       "2  I don't understand this question   \n",
       "3  I don't understand this question   \n",
       "4                            Greedo   \n",
       "\n",
       "   Are you familiar with the Expanded Universe?  \\\n",
       "0                                          True   \n",
       "1                                           NaN   \n",
       "2                                         False   \n",
       "3                                         False   \n",
       "4                                          True   \n",
       "\n",
       "   Do you consider yourself to be a fan of the Expanded Universe?  \\\n",
       "0                                              False                \n",
       "1                                                NaN                \n",
       "2                                                NaN                \n",
       "3                                                NaN                \n",
       "4                                              False                \n",
       "\n",
       "   Do you consider yourself to be a fan of the Star Trek franchise? Gender  \\\n",
       "0                                              False                  Male   \n",
       "1                                               True                  Male   \n",
       "2                                              False                  Male   \n",
       "3                                               True                  Male   \n",
       "4                                              False                  Male   \n",
       "\n",
       "     Age     Household Income                         Education  \\\n",
       "0  18-29                  NaN                High school degree   \n",
       "1  18-29         $0 - $24,999                   Bachelor degree   \n",
       "2  18-29         $0 - $24,999                High school degree   \n",
       "3  18-29  $100,000 - $149,999  Some college or Associate degree   \n",
       "4  18-29  $100,000 - $149,999  Some college or Associate degree   \n",
       "\n",
       "  Location (Census Region)  \n",
       "0           South Atlantic  \n",
       "1       West South Central  \n",
       "2       West North Central  \n",
       "3       West North Central  \n",
       "4       West North Central  \n",
       "\n",
       "[5 rows x 38 columns]"
      ]
     },
     "execution_count": 53,
     "metadata": {},
     "output_type": "execute_result"
    }
   ],
   "source": [
    "#Creating a dictionary to rename characters\n",
    "\n",
    "characters_map = {'Please state whether you view the following characters favorably, unfavorably, or are unfamiliar with him/her.': 'Han Solo',\n",
    "            'Unnamed: 16': 'Luke Skywalker',\n",
    "            'Unnamed: 17': 'Princess Leia Organa',\n",
    "            'Unnamed: 18': 'Anakin Skywalker',\n",
    "            'Unnamed: 19': 'Obi Wan Kenobi',\n",
    "            'Unnamed: 20': 'Emperor Palpatine',\n",
    "            'Unnamed: 21': 'Darth Vather',\n",
    "            'Unnamed: 22': 'Lando Calrissian',\n",
    "            'Unnamed: 23': 'Boba Fett',\n",
    "            'Unnamed: 24': 'C-3P0',\n",
    "            'Unnamed: 25': 'R2-D2',\n",
    "            'Unnamed: 26': 'Jar Jar Binks',\n",
    "            'Unnamed: 27': 'Pamde Amidala',\n",
    "            'Unnamed: 28': 'Yoda'\n",
    "            } \n",
    "             \n",
    "\n",
    "#renaming ranking columns    \n",
    "star_wars.rename(columns = characters_map, inplace = True)\n",
    "star_wars.head()"
   ]
  },
  {
   "cell_type": "code",
   "execution_count": 54,
   "metadata": {
    "scrolled": true
   },
   "outputs": [
    {
     "data": {
      "text/plain": [
       "Index(['RespondentID',\n",
       "       'Have you seen any of the 6 films in the Star Wars franchise?',\n",
       "       'Do you consider yourself to be a fan of the Star Wars film franchise?',\n",
       "       'seen_1', 'seen_2', 'seen_3', 'seen_4', 'seen_5', 'seen_6', 'ranking_1',\n",
       "       'ranking_2', 'ranking_3', 'ranking_4', 'ranking_5', 'ranking_6',\n",
       "       'Han Solo', 'Luke Skywalker', 'Princess Leia Organa',\n",
       "       'Anakin Skywalker', 'Obi Wan Kenobi', 'Emperor Palpatine',\n",
       "       'Darth Vather', 'Lando Calrissian', 'Boba Fett', 'C-3P0', 'R2-D2',\n",
       "       'Jar Jar Binks', 'Pamde Amidala', 'Yoda', 'Which character shot first?',\n",
       "       'Are you familiar with the Expanded Universe?',\n",
       "       'Do you consider yourself to be a fan of the Expanded Universe?',\n",
       "       'Do you consider yourself to be a fan of the Star Trek franchise?',\n",
       "       'Gender', 'Age', 'Household Income', 'Education',\n",
       "       'Location (Census Region)'],\n",
       "      dtype='object')"
      ]
     },
     "execution_count": 54,
     "metadata": {},
     "output_type": "execute_result"
    }
   ],
   "source": [
    "star_wars.columns"
   ]
  },
  {
   "cell_type": "markdown",
   "metadata": {},
   "source": [
    "# Who has seen which episode?"
   ]
  },
  {
   "cell_type": "code",
   "execution_count": 55,
   "metadata": {},
   "outputs": [
    {
     "data": {
      "text/plain": [
       "471"
      ]
     },
     "execution_count": 55,
     "metadata": {},
     "output_type": "execute_result"
    }
   ],
   "source": [
    "#how many have seen all six episodes?\n",
    "all_episodes = star_wars.iloc[:,3:9].all(axis=1) #bool index\n",
    "all_episodes.sum()"
   ]
  },
  {
   "cell_type": "code",
   "execution_count": 56,
   "metadata": {},
   "outputs": [
    {
     "data": {
      "text/plain": [
       "516"
      ]
     },
     "execution_count": 56,
     "metadata": {},
     "output_type": "execute_result"
    }
   ],
   "source": [
    "#how many have seen only I-II-III episodes?\n",
    "first_3 = star_wars.iloc[:,3:6].all(axis=1).sum() #bool index\n",
    "first_3.sum()"
   ]
  },
  {
   "cell_type": "code",
   "execution_count": 57,
   "metadata": {},
   "outputs": [
    {
     "data": {
      "text/plain": [
       "592"
      ]
     },
     "execution_count": 57,
     "metadata": {},
     "output_type": "execute_result"
    }
   ],
   "source": [
    "#how many have seen only IV-V-VI episodes?\n",
    "second_3 = star_wars.iloc[:,6:9].all(axis=1).sum() #bool index\n",
    "second_3.sum()\n"
   ]
  },
  {
   "cell_type": "markdown",
   "metadata": {},
   "source": [
    "Let's see how many people have seen each episode"
   ]
  },
  {
   "cell_type": "code",
   "execution_count": 58,
   "metadata": {},
   "outputs": [
    {
     "data": {
      "text/plain": [
       "<matplotlib.axes._subplots.AxesSubplot at 0x120247b38>"
      ]
     },
     "execution_count": 58,
     "metadata": {},
     "output_type": "execute_result"
    },
    {
     "data": {
      "image/png": "[encoded data removed]",
      "text/plain": [
       "<Figure size 432x288 with 1 Axes>"
      ]
     },
     "metadata": {
      "needs_background": "light"
     },
     "output_type": "display_data"
    }
   ],
   "source": [
    "star_wars.iloc[:,3:9].sum(axis=0).plot(kind = 'barh')"
   ]
  },
  {
   "cell_type": "markdown",
   "metadata": {},
   "source": [
    "I would expect to see much more uniform figures inside each trilogy, but I see for example that there is a strong difference between who has seen episode 4 and 5/6."
   ]
  },
  {
   "cell_type": "markdown",
   "metadata": {},
   "source": [
    "## Analysis by fan/not fan of Star Wars"
   ]
  },
  {
   "cell_type": "code",
   "execution_count": 59,
   "metadata": {},
   "outputs": [
    {
     "data": {
      "text/plain": [
       "'Do you consider yourself to be a fan of the Star Wars film franchise?'"
      ]
     },
     "execution_count": 59,
     "metadata": {},
     "output_type": "execute_result"
    }
   ],
   "source": [
    "star_wars.columns[2]"
   ]
  },
  {
   "cell_type": "code",
   "execution_count": 60,
   "metadata": {},
   "outputs": [],
   "source": [
    "SW_fans = star_wars[star_wars.iloc[:,2]==True]\n",
    "SW_not_fans = star_wars[star_wars.iloc[:,2]==False]"
   ]
  },
  {
   "cell_type": "code",
   "execution_count": 61,
   "metadata": {},
   "outputs": [
    {
     "data": {
      "text/plain": [
       "<matplotlib.legend.Legend at 0x1208683c8>"
      ]
     },
     "execution_count": 61,
     "metadata": {},
     "output_type": "execute_result"
    },
    {
     "data": {
      "image/png": "[encoded data removed]",
      "text/plain": [
       "<Figure size 432x288 with 1 Axes>"
      ]
     },
     "metadata": {
      "needs_background": "light"
     },
     "output_type": "display_data"
    }
   ],
   "source": [
    "# Star Wars Fans\n",
    "ylabels = ['Episode 1','Episode 2', 'Episode 3', 'Episode 4', 'Episode 5', 'Episode 6']\n",
    "seen_fans = SW_fans.iloc[:,3:9].sum()\n",
    "seen_not_fans = SW_not_fans.iloc[:,3:9].sum()\n",
    "\n",
    "width = 0.35 \n",
    "yticks_pos = np.arange(6)\n",
    "y_pos_fans = np.arange(6) + width/2\n",
    "y_pos_not_fans = np.arange(6) - width/2\n",
    "\n",
    "fig, ax = plt.subplots()\n",
    "ax.barh(y_pos_fans, seen_fans, width, label = 'SW fans')\n",
    "ax.barh(y_pos_not_fans, seen_not_fans, width, label = 'SW not fans')\n",
    "ax.set_title('Which episode have you seen?')\n",
    "ax.set_yticks(yticks_pos)\n",
    "ax.set_yticklabels(ylabels)\n",
    "ax.set_xlim(0,700)\n",
    "ax.legend(loc = 0)\n"
   ]
  },
  {
   "cell_type": "markdown",
   "metadata": {},
   "source": [
    "## Analysis by gender"
   ]
  },
  {
   "cell_type": "code",
   "execution_count": 62,
   "metadata": {},
   "outputs": [],
   "source": [
    "males = star_wars[star_wars[\"Gender\"] == \"Male\"]\n",
    "females = star_wars[star_wars[\"Gender\"] == \"Female\"]"
   ]
  },
  {
   "cell_type": "code",
   "execution_count": 63,
   "metadata": {},
   "outputs": [
    {
     "data": {
      "text/plain": [
       "<matplotlib.legend.Legend at 0x1208f5128>"
      ]
     },
     "execution_count": 63,
     "metadata": {},
     "output_type": "execute_result"
    },
    {
     "data": {
      "image/png": "[encoded data removed]",
      "text/plain": [
       "<Figure size 432x288 with 1 Axes>"
      ]
     },
     "metadata": {
      "needs_background": "light"
     },
     "output_type": "display_data"
    }
   ],
   "source": [
    "# Genders\n",
    "seen_males = males.iloc[:,3:9].sum()\n",
    "seen_females = females.iloc[:,3:9].sum()\n",
    "\n",
    "width = 0.35 \n",
    "yticks_pos = np.arange(6)\n",
    "y_pos_fans = np.arange(6) + width/2\n",
    "y_pos_not_fans = np.arange(6) - width/2\n",
    "\n",
    "fig, ax = plt.subplots()\n",
    "ax.barh(y_pos_fans, seen_males, width, label = 'Male')\n",
    "ax.barh(y_pos_not_fans, seen_females, width, label = 'Female')\n",
    "ax.set_title('Which episode have you seen?')\n",
    "ax.set_yticks(yticks_pos)\n",
    "ax.set_yticklabels(ylabels)\n",
    "ax.set_xlim(0,450)\n",
    "ax.legend(loc=7)"
   ]
  },
  {
   "cell_type": "markdown",
   "metadata": {},
   "source": [
    "# How do they rank each episode?\n",
    "\n",
    "In order to analyse how people ranked each film, we need to filter the respondent who have seen all six films, otherwise the ranking wouldn't make sense"
   ]
  },
  {
   "cell_type": "code",
   "execution_count": 81,
   "metadata": {
    "scrolled": false
   },
   "outputs": [
    {
     "data": {
      "text/plain": [
       "<matplotlib.axes._subplots.AxesSubplot at 0x121c82f60>"
      ]
     },
     "execution_count": 81,
     "metadata": {},
     "output_type": "execute_result"
    },
    {
     "data": {
      "image/png": "[encoded data removed]",
      "text/plain": [
       "<Figure size 432x288 with 1 Axes>"
      ]
     },
     "metadata": {
      "needs_background": "light"
     },
     "output_type": "display_data"
    }
   ],
   "source": [
    "# Creating a subgroup with only the rankings \n",
    "# of only who have seen all six films\n",
    "\n",
    "rankings = star_wars[all_episodes].iloc[:,9:15] #using the boolean index created before\n",
    "mean_rankings = rankings.mean()\n",
    "mean_rankings.plot(kind = 'barh')"
   ]
  },
  {
   "cell_type": "markdown",
   "metadata": {},
   "source": [
    "We can see a clear difference between the first and the second trilogy, being the second one (firstly released) much better ranked. Comparing with who have seen the episodes, we can understand that there was a decreasing interest in watching episode 1 to 3, and that is confirmed by a lower rankings of these new episodes."
   ]
  },
  {
   "cell_type": "markdown",
   "metadata": {},
   "source": [
    "## Alternative ranking"
   ]
  },
  {
   "cell_type": "code",
   "execution_count": 159,
   "metadata": {},
   "outputs": [
    {
     "data": {
      "text/plain": [
       "{'episode_1': [150, 89, 183, 85, 51, 115],\n",
       " 'episode_2': [86, 206, 104, 72, 75, 28],\n",
       " 'episode_3': [123, 118, 139, 95, 40, 34],\n",
       " 'episode_4': [62, 32, 69, 114, 129, 201],\n",
       " 'episode_5': [34, 62, 43, 105, 228, 286],\n",
       " 'episode_6': [66, 34, 54, 214, 227, 143]}"
      ]
     },
     "execution_count": 159,
     "metadata": {},
     "output_type": "execute_result"
    }
   ],
   "source": [
    "episode_rankings = {}\n",
    "ep = 1\n",
    "for i in range(3,9): \n",
    "    episode = 'ranking_{}'.format(ep)\n",
    "    six = star_wars.iloc[:,(i+6)][star_wars.iloc[:,i]][star_wars[episode]==6].count()\n",
    "    five = star_wars.iloc[:,(i+6)][star_wars.iloc[:,i]][star_wars[episode]==5].count()\n",
    "    four = star_wars.iloc[:,(i+6)][star_wars.iloc[:,i]][star_wars[episode]==4].count()\n",
    "    three = star_wars.iloc[:,(i+6)][star_wars.iloc[:,i]][star_wars[episode]==3].count()\n",
    "    two = star_wars.iloc[:,(i+6)][star_wars.iloc[:,i]][star_wars[episode]==2].count()\n",
    "    one = star_wars.iloc[:,(i+6)][star_wars.iloc[:,i]][star_wars[episode]==1].count()\n",
    "    episode_rankings['episode_{}'.format(ep)] = [six, five, four, three, two, one]\n",
    "    ep += 1\n",
    "\n",
    "episode_rankings\n"
   ]
  },
  {
   "cell_type": "code",
   "execution_count": 160,
   "metadata": {},
   "outputs": [],
   "source": [
    "index = ['6th', '5th', '4th', '3rd', '2nd', '1st']\n",
    "episode_table = pd.DataFrame(episode_rankings, index = index)"
   ]
  },
  {
   "cell_type": "code",
   "execution_count": 174,
   "metadata": {},
   "outputs": [
    {
     "data": {
      "text/plain": [
       "<matplotlib.axes._subplots.AxesSubplot at 0x1238a0e10>"
      ]
     },
     "execution_count": 174,
     "metadata": {},
     "output_type": "execute_result"
    },
    {
     "data": {
      "image/png": "[encoded data removed]",
      "text/plain": [
       "<Figure size 432x288 with 1 Axes>"
      ]
     },
     "metadata": {
      "needs_background": "light"
     },
     "output_type": "display_data"
    }
   ],
   "source": [
    "episode_table.transpose().plot(kind = 'barh', stacked = True)"
   ]
  },
  {
   "cell_type": "markdown",
   "metadata": {},
   "source": [
    "## Analysis by fan/not fan of Star Wars"
   ]
  },
  {
   "cell_type": "code",
   "execution_count": 66,
   "metadata": {},
   "outputs": [],
   "source": [
    "SW_fans_ranking = SW_fans.iloc[:,9:15].mean(axis=0)\n",
    "SW_not_fans_ranking = SW_not_fans.iloc[:,9:15].mean(axis=0)"
   ]
  },
  {
   "cell_type": "code",
   "execution_count": 67,
   "metadata": {},
   "outputs": [
    {
     "data": {
      "text/plain": [
       "<matplotlib.legend.Legend at 0x120ace0f0>"
      ]
     },
     "execution_count": 67,
     "metadata": {},
     "output_type": "execute_result"
    },
    {
     "data": {
      "image/png": "[encoded data removed]",
      "text/plain": [
       "<Figure size 432x288 with 1 Axes>"
      ]
     },
     "metadata": {
      "needs_background": "light"
     },
     "output_type": "display_data"
    }
   ],
   "source": [
    "# Ranking of fans/not fans\n",
    "width = 0.35 \n",
    "yticks_pos = np.arange(6)\n",
    "y_pos_fans = np.arange(6) + width/2\n",
    "y_pos_not_fans = np.arange(6) - width/2\n",
    "\n",
    "fig, ax = plt.subplots()\n",
    "ax.barh(y_pos_fans, SW_fans_ranking, width, label = 'Fans')\n",
    "ax.barh(y_pos_not_fans, SW_not_fans_ranking, width, label = 'Not fans')\n",
    "ax.set_title('How do you rank each episode?')\n",
    "ax.set_yticks(yticks_pos)\n",
    "ax.set_yticklabels(ylabels)\n",
    "ax.set_xlim(1,5)\n",
    "ax.legend(loc=0)"
   ]
  },
  {
   "cell_type": "markdown",
   "metadata": {},
   "source": [
    "It's interesting to notice a split in rankings between fans and not fans. The former rank the first trilogy better than not fans, ans vice-versa. They both agree that Episode 3 is the worst. Episode 5 is the best ranked by Fans and it's ranked as good as Episode 1 by not fans."
   ]
  },
  {
   "cell_type": "markdown",
   "metadata": {},
   "source": [
    "## Analysis by gender"
   ]
  },
  {
   "cell_type": "code",
   "execution_count": 68,
   "metadata": {},
   "outputs": [],
   "source": [
    "males_ranking = males.iloc[:,9:15].mean(axis=0)\n",
    "females_ranking = females.iloc[:,9:15].mean(axis=0)"
   ]
  },
  {
   "cell_type": "code",
   "execution_count": 69,
   "metadata": {},
   "outputs": [
    {
     "data": {
      "text/plain": [
       "<matplotlib.legend.Legend at 0x120dd9cf8>"
      ]
     },
     "execution_count": 69,
     "metadata": {},
     "output_type": "execute_result"
    },
    {
     "data": {
      "image/png": "[encoded data removed]",
      "text/plain": [
       "<Figure size 432x288 with 1 Axes>"
      ]
     },
     "metadata": {
      "needs_background": "light"
     },
     "output_type": "display_data"
    }
   ],
   "source": [
    "# Ranking of male/females\n",
    "width = 0.35 \n",
    "yticks_pos = np.arange(6)\n",
    "y_pos_fans = np.arange(6) + width/2\n",
    "y_pos_not_fans = np.arange(6) - width/2\n",
    "\n",
    "fig, ax = plt.subplots()\n",
    "ax.barh(y_pos_fans, males_ranking, width, label = 'Males')\n",
    "ax.barh(y_pos_not_fans, females_ranking, width, label = 'Females')\n",
    "ax.set_title('How do you rank each episode?')\n",
    "ax.set_yticks(yticks_pos)\n",
    "ax.set_yticklabels(ylabels)\n",
    "ax.set_xlim(1,5)\n",
    "ax.legend(loc=0)"
   ]
  },
  {
   "cell_type": "markdown",
   "metadata": {},
   "source": [
    "# Characters favourability"
   ]
  },
  {
   "cell_type": "markdown",
   "metadata": {},
   "source": [
    "In order to simplify the analysis we will divide the favourability votes in four categories, as well as did by [FiveThirtyEight](https://fivethirtyeight.com/features/americas-favorite-star-wars-movies-and-least-favorite-characters/):\n",
    "\n",
    "- Favourable\n",
    "- Neutral\n",
    "- Unfavourable\n",
    "- Unfamiliar\n"
   ]
  },
  {
   "cell_type": "code",
   "execution_count": 123,
   "metadata": {},
   "outputs": [
    {
     "data": {
      "text/plain": [
       "{'Han Solo': [0.918, 0.053, 0.011, 0.018],\n",
       " 'Luke Skywalker': [0.928, 0.046, 0.019, 0.007],\n",
       " 'Princess Leia Organa': [0.911, 0.058, 0.022, 0.01],\n",
       " 'Anakin Skywalker': [0.625, 0.164, 0.148, 0.063],\n",
       " 'Obi Wan Kenobi': [0.909, 0.052, 0.018, 0.021],\n",
       " 'Emperor Palpatine': [0.311, 0.262, 0.236, 0.192],\n",
       " 'Darth Vather': [0.582, 0.102, 0.304, 0.012],\n",
       " 'Lando Calrissian': [0.445, 0.288, 0.087, 0.18],\n",
       " 'Boba Fett': [0.358, 0.305, 0.174, 0.163],\n",
       " 'C-3P0': [0.85, 0.096, 0.036, 0.018],\n",
       " 'R2-D2': [0.9, 0.069, 0.019, 0.012],\n",
       " 'Jar Jar Binks': [0.295, 0.2, 0.373, 0.133],\n",
       " 'Pamde Amidala': [0.431, 0.254, 0.113, 0.201],\n",
       " 'Yoda': [0.907, 0.062, 0.019, 0.012]}"
      ]
     },
     "execution_count": 123,
     "metadata": {},
     "output_type": "execute_result"
    }
   ],
   "source": [
    "# dividing favourability in 4 categories\n",
    "\n",
    "favourability = {}\n",
    "for i in (range(15,29)):\n",
    "    character_name =  star_wars.columns[i]\n",
    "    values = star_wars.iloc[:, i].value_counts()/len(star_wars[star_wars.iloc[:, i].notna()])\n",
    "    favourable = values[values.index.str.contains(r'(?<!Neither )\\bfavorably')].sum().round(3)\n",
    "    neutral = values[values.index.str.contains('neutral')].sum().round(3)\n",
    "    unfavourable = values[values.index.str.contains(r'(?<!nor )\\bunfavorably')].sum().round(3)\n",
    "    unfamiliar = values[values.index.str.contains('Unfamiliar')].sum().round(3)\n",
    "    favourability[character_name] = [favourable, neutral, unfavourable, unfamiliar]\n",
    "favourability"
   ]
  },
  {
   "cell_type": "code",
   "execution_count": 111,
   "metadata": {
    "scrolled": false
   },
   "outputs": [
    {
     "data": {
      "text/html": [
       "<div>\n",
       "<style scoped>\n",
       "    .dataframe tbody tr th:only-of-type {\n",
       "        vertical-align: middle;\n",
       "    }\n",
       "\n",
       "    .dataframe tbody tr th {\n",
       "        vertical-align: top;\n",
       "    }\n",
       "\n",
       "    .dataframe thead th {\n",
       "        text-align: right;\n",
       "    }\n",
       "</style>\n",
       "<table border=\"1\" class=\"dataframe\">\n",
       "  <thead>\n",
       "    <tr style=\"text-align: right;\">\n",
       "      <th></th>\n",
       "      <th>Favourable</th>\n",
       "      <th>Neutral</th>\n",
       "      <th>Unfavourable</th>\n",
       "      <th>Unfamiliar</th>\n",
       "    </tr>\n",
       "  </thead>\n",
       "  <tbody>\n",
       "    <tr>\n",
       "      <th>Han Solo</th>\n",
       "      <td>0.918</td>\n",
       "      <td>0.053</td>\n",
       "      <td>0.011</td>\n",
       "      <td>0.018</td>\n",
       "    </tr>\n",
       "    <tr>\n",
       "      <th>Luke Skywalker</th>\n",
       "      <td>0.928</td>\n",
       "      <td>0.046</td>\n",
       "      <td>0.019</td>\n",
       "      <td>0.007</td>\n",
       "    </tr>\n",
       "    <tr>\n",
       "      <th>Princess Leia Organa</th>\n",
       "      <td>0.911</td>\n",
       "      <td>0.058</td>\n",
       "      <td>0.022</td>\n",
       "      <td>0.010</td>\n",
       "    </tr>\n",
       "    <tr>\n",
       "      <th>Anakin Skywalker</th>\n",
       "      <td>0.625</td>\n",
       "      <td>0.164</td>\n",
       "      <td>0.148</td>\n",
       "      <td>0.063</td>\n",
       "    </tr>\n",
       "    <tr>\n",
       "      <th>Obi Wan Kenobi</th>\n",
       "      <td>0.909</td>\n",
       "      <td>0.052</td>\n",
       "      <td>0.018</td>\n",
       "      <td>0.021</td>\n",
       "    </tr>\n",
       "    <tr>\n",
       "      <th>Emperor Palpatine</th>\n",
       "      <td>0.311</td>\n",
       "      <td>0.262</td>\n",
       "      <td>0.236</td>\n",
       "      <td>0.192</td>\n",
       "    </tr>\n",
       "    <tr>\n",
       "      <th>Darth Vather</th>\n",
       "      <td>0.582</td>\n",
       "      <td>0.102</td>\n",
       "      <td>0.304</td>\n",
       "      <td>0.012</td>\n",
       "    </tr>\n",
       "    <tr>\n",
       "      <th>Lando Calrissian</th>\n",
       "      <td>0.445</td>\n",
       "      <td>0.288</td>\n",
       "      <td>0.087</td>\n",
       "      <td>0.180</td>\n",
       "    </tr>\n",
       "    <tr>\n",
       "      <th>Boba Fett</th>\n",
       "      <td>0.358</td>\n",
       "      <td>0.305</td>\n",
       "      <td>0.174</td>\n",
       "      <td>0.163</td>\n",
       "    </tr>\n",
       "    <tr>\n",
       "      <th>C-3P0</th>\n",
       "      <td>0.850</td>\n",
       "      <td>0.096</td>\n",
       "      <td>0.036</td>\n",
       "      <td>0.018</td>\n",
       "    </tr>\n",
       "    <tr>\n",
       "      <th>R2-D2</th>\n",
       "      <td>0.900</td>\n",
       "      <td>0.069</td>\n",
       "      <td>0.019</td>\n",
       "      <td>0.012</td>\n",
       "    </tr>\n",
       "    <tr>\n",
       "      <th>Jar Jar Binks</th>\n",
       "      <td>0.295</td>\n",
       "      <td>0.200</td>\n",
       "      <td>0.373</td>\n",
       "      <td>0.133</td>\n",
       "    </tr>\n",
       "    <tr>\n",
       "      <th>Pamde Amidala</th>\n",
       "      <td>0.431</td>\n",
       "      <td>0.254</td>\n",
       "      <td>0.113</td>\n",
       "      <td>0.201</td>\n",
       "    </tr>\n",
       "    <tr>\n",
       "      <th>Yoda</th>\n",
       "      <td>0.907</td>\n",
       "      <td>0.062</td>\n",
       "      <td>0.019</td>\n",
       "      <td>0.012</td>\n",
       "    </tr>\n",
       "  </tbody>\n",
       "</table>\n",
       "</div>"
      ],
      "text/plain": [
       "                      Favourable  Neutral  Unfavourable  Unfamiliar\n",
       "Han Solo                   0.918    0.053         0.011       0.018\n",
       "Luke Skywalker             0.928    0.046         0.019       0.007\n",
       "Princess Leia Organa       0.911    0.058         0.022       0.010\n",
       "Anakin Skywalker           0.625    0.164         0.148       0.063\n",
       "Obi Wan Kenobi             0.909    0.052         0.018       0.021\n",
       "Emperor Palpatine          0.311    0.262         0.236       0.192\n",
       "Darth Vather               0.582    0.102         0.304       0.012\n",
       "Lando Calrissian           0.445    0.288         0.087       0.180\n",
       "Boba Fett                  0.358    0.305         0.174       0.163\n",
       "C-3P0                      0.850    0.096         0.036       0.018\n",
       "R2-D2                      0.900    0.069         0.019       0.012\n",
       "Jar Jar Binks              0.295    0.200         0.373       0.133\n",
       "Pamde Amidala              0.431    0.254         0.113       0.201\n",
       "Yoda                       0.907    0.062         0.019       0.012"
      ]
     },
     "execution_count": 111,
     "metadata": {},
     "output_type": "execute_result"
    }
   ],
   "source": [
    "index = ['Favourable', 'Neutral', 'Unfavourable', 'Unfamiliar']\n",
    "Fav_table = pd.DataFrame(favourability, index = index)\n",
    "\n",
    "# Transposing for better visualization\n",
    "Fav_table = Fav_table.transpose()\n",
    "Fav_table"
   ]
  },
  {
   "cell_type": "code",
   "execution_count": 72,
   "metadata": {},
   "outputs": [
    {
     "data": {
      "text/plain": [
       "'Luke Skywalker'"
      ]
     },
     "execution_count": 72,
     "metadata": {},
     "output_type": "execute_result"
    }
   ],
   "source": [
    "Fav_table['Favourable'].idxmax()"
   ]
  },
  {
   "cell_type": "code",
   "execution_count": 73,
   "metadata": {},
   "outputs": [
    {
     "data": {
      "text/plain": [
       "'Jar Jar Binks'"
      ]
     },
     "execution_count": 73,
     "metadata": {},
     "output_type": "execute_result"
    }
   ],
   "source": [
    "Fav_table['Unfavourable'].idxmax()"
   ]
  },
  {
   "cell_type": "code",
   "execution_count": 74,
   "metadata": {},
   "outputs": [
    {
     "data": {
      "text/plain": [
       "<matplotlib.axes._subplots.AxesSubplot at 0x120ec0978>"
      ]
     },
     "execution_count": 74,
     "metadata": {},
     "output_type": "execute_result"
    },
    {
     "data": {
      "image/png": "[encoded data removed]",
      "text/plain": [
       "<Figure size 432x288 with 1 Axes>"
      ]
     },
     "metadata": {
      "needs_background": "light"
     },
     "output_type": "display_data"
    }
   ],
   "source": [
    "# Calculate a Polarization value as the absolute difference  \n",
    "# between favourable and unfavourable votes, subtracted to 1\n",
    "\n",
    "Fav_table['Polarization'] = 1-(abs(Fav_table['Favourable']-Fav_table['Unfavourable']))\n",
    "Fav_table['Polarization'].sort_values().plot(kind = 'barh')"
   ]
  },
  {
   "cell_type": "code",
   "execution_count": 75,
   "metadata": {
    "scrolled": true
   },
   "outputs": [
    {
     "data": {
      "text/plain": [
       "Emperor Palpatine    0.925\n",
       "Jar Jar Binks        0.922\n",
       "Boba Fett            0.816\n",
       "Darth Vather         0.722\n",
       "Pamde Amidala        0.682\n",
       "Name: Polarization, dtype: float64"
      ]
     },
     "execution_count": 75,
     "metadata": {},
     "output_type": "execute_result"
    }
   ],
   "source": [
    "# most controversial characters, defined as the characters\n",
    "# with the highest polarization level\n",
    "\n",
    "Fav_table['Polarization'].abs().sort_values(ascending=False).head()"
   ]
  },
  {
   "cell_type": "markdown",
   "metadata": {},
   "source": [
    "Not surprisingly, Luke Skywalker is the most favourite character and with the less polarization.\n",
    "\n",
    "Jar Jar Binks is the less favourite characters but also one with the most polarized votes. There has been a lot of speculation about the actual villainy of this character, started from [this theory on Reddit](https://www.reddit.com/r/StarWars/comments/3qvj6w/theory_jar_jar_binks_was_a_trained_force_user/) "
   ]
  },
  {
   "cell_type": "code",
   "execution_count": 76,
   "metadata": {},
   "outputs": [],
   "source": [
    "# Visualization of characters favourability\n",
    "# Calculating a normalized favourability without unfamiliar votes\n",
    "\n",
    "values_sum = Fav_table.iloc[:,:3].sum(axis=1)\n",
    "for col in Fav_table.columns[0:3]:\n",
    "    norm_name = \"{}_norm\".format(col)\n",
    "    Fav_table[norm_name] = Fav_table[col]/values_sum.copy()"
   ]
  },
  {
   "cell_type": "code",
   "execution_count": 103,
   "metadata": {},
   "outputs": [
    {
     "data": {
      "text/plain": [
       "<matplotlib.axes._subplots.AxesSubplot at 0x121d78ba8>"
      ]
     },
     "execution_count": 103,
     "metadata": {},
     "output_type": "execute_result"
    },
    {
     "data": {
      "image/png": "[encoded data removed]",
      "text/plain": [
       "<Figure size 432x288 with 1 Axes>"
      ]
     },
     "metadata": {
      "needs_background": "light"
     },
     "output_type": "display_data"
    }
   ],
   "source": [
    "Fav_table_sorted = Fav_table.sort_values(by=['Polarization'], ascending = False)\n",
    "Fav_table_sorted.rename = ['Favourable','Neutral','Unfavourable']\n",
    "xlim = (0,1)\n",
    "cmap = ListedColormap([\"green\", \"yellow\", \"red\"])\n",
    "title = \"Characters favourability, sorted by polarization\"\n",
    "Fav_table_sorted.iloc[:,5:8].plot(kind='barh', stacked=True, xlim=xlim, colormap = cmap, title = title)"
   ]
  },
  {
   "cell_type": "markdown",
   "metadata": {},
   "source": [
    "So we can see that there's is a large agreement about the favourability of the main protagonists: Luke Skywalker, Han Solo, Obi Wan, Leia Organa, Yoda, R2-D2 and C-3P0\n",
    "\n",
    "The least favourite characters, Jar Jar Binks and Palpatine are also the most controversial."
   ]
  },
  {
   "cell_type": "code",
   "execution_count": null,
   "metadata": {},
   "outputs": [],
   "source": []
  }
 ],
 "metadata": {
  "kernelspec": {
   "display_name": "Python 3",
   "language": "python",
   "name": "python3"
  },
  "language_info": {
   "codemirror_mode": {
    "name": "ipython",
    "version": 3
   },
   "file_extension": ".py",
   "mimetype": "text/x-python",
   "name": "python",
   "nbconvert_exporter": "python",
   "pygments_lexer": "ipython3",
   "version": "3.7.1"
  }
 },
 "nbformat": 4,
 "nbformat_minor": 1
}
