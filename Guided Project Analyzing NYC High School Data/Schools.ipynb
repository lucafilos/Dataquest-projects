{
 "cells": [
  {
   "cell_type": "markdown",
   "metadata": {},
   "source": [
    "# Read in the data"
   ]
  },
  {
   "cell_type": "code",
   "execution_count": 3,
   "metadata": {},
   "outputs": [],
   "source": [
    "import pandas as pd\n",
    "import matplotlib as plt\n",
    "import numpy\n",
    "import re\n",
    "%matplotlib inline\n",
    "\n",
    "data_files = [\n",
    "    \"ap_2010.csv\",\n",
    "    \"class_size.csv\",\n",
    "    \"demographics.csv\",\n",
    "    \"graduation.csv\",\n",
    "    \"hs_directory.csv\",\n",
    "    \"sat_results.csv\"\n",
    "]\n",
    "\n",
    "data = {}\n",
    "\n",
    "for f in data_files:\n",
    "    d = pd.read_csv(\"schools/{0}\".format(f))\n",
    "    data[f.replace(\".csv\", \"\")] = d"
   ]
  },
  {
   "cell_type": "markdown",
   "metadata": {},
   "source": [
    "# Read in the surveys"
   ]
  },
  {
   "cell_type": "code",
   "execution_count": 4,
   "metadata": {},
   "outputs": [],
   "source": [
    "all_survey = pd.read_csv(\"schools/survey_all.txt\", delimiter=\"\\t\", encoding='windows-1252')\n",
    "d75_survey = pd.read_csv(\"schools/survey_d75.txt\", delimiter=\"\\t\", encoding='windows-1252')\n",
    "survey = pd.concat([all_survey, d75_survey], axis=0)\n",
    "\n",
    "survey[\"DBN\"] = survey[\"dbn\"]\n",
    "\n",
    "survey_fields = [\n",
    "    \"DBN\", \n",
    "    \"rr_s\", \n",
    "    \"rr_t\", \n",
    "    \"rr_p\", \n",
    "    \"N_s\", \n",
    "    \"N_t\", \n",
    "    \"N_p\", \n",
    "    \"saf_p_11\", \n",
    "    \"com_p_11\", \n",
    "    \"eng_p_11\", \n",
    "    \"aca_p_11\", \n",
    "    \"saf_t_11\", \n",
    "    \"com_t_11\", \n",
    "    \"eng_t_11\", \n",
    "    \"aca_t_11\", \n",
    "    \"saf_s_11\", \n",
    "    \"com_s_11\", \n",
    "    \"eng_s_11\", \n",
    "    \"aca_s_11\", \n",
    "    \"saf_tot_11\", \n",
    "    \"com_tot_11\", \n",
    "    \"eng_tot_11\", \n",
    "    \"aca_tot_11\",\n",
    "]\n",
    "survey = survey.loc[:,survey_fields]\n",
    "data[\"survey\"] = survey"
   ]
  },
  {
   "cell_type": "markdown",
   "metadata": {},
   "source": [
    "# Add DBN columns"
   ]
  },
  {
   "cell_type": "code",
   "execution_count": 5,
   "metadata": {},
   "outputs": [],
   "source": [
    "data[\"hs_directory\"][\"DBN\"] = data[\"hs_directory\"][\"dbn\"]\n",
    "\n",
    "def pad_csd(num):\n",
    "    string_representation = str(num)\n",
    "    if len(string_representation) > 1:\n",
    "        return string_representation\n",
    "    else:\n",
    "        return \"0\" + string_representation\n",
    "    \n",
    "data[\"class_size\"][\"padded_csd\"] = data[\"class_size\"][\"CSD\"].apply(pad_csd)\n",
    "data[\"class_size\"][\"DBN\"] = data[\"class_size\"][\"padded_csd\"] + data[\"class_size\"][\"SCHOOL CODE\"]"
   ]
  },
  {
   "cell_type": "markdown",
   "metadata": {},
   "source": [
    "# Convert columns to numeric"
   ]
  },
  {
   "cell_type": "code",
   "execution_count": 6,
   "metadata": {},
   "outputs": [],
   "source": [
    "cols = ['SAT Math Avg. Score', 'SAT Critical Reading Avg. Score', 'SAT Writing Avg. Score']\n",
    "for c in cols:\n",
    "    data[\"sat_results\"][c] = pd.to_numeric(data[\"sat_results\"][c], errors=\"coerce\")\n",
    "\n",
    "data['sat_results']['sat_score'] = data['sat_results'][cols[0]] + data['sat_results'][cols[1]] + data['sat_results'][cols[2]]\n",
    "\n",
    "def find_lat(loc):\n",
    "    coords = re.findall(\"\\(.+, .+\\)\", loc)\n",
    "    lat = coords[0].split(\",\")[0].replace(\"(\", \"\")\n",
    "    return lat\n",
    "\n",
    "def find_lon(loc):\n",
    "    coords = re.findall(\"\\(.+, .+\\)\", loc)\n",
    "    lon = coords[0].split(\",\")[1].replace(\")\", \"\").strip()\n",
    "    return lon\n",
    "\n",
    "data[\"hs_directory\"][\"lat\"] = data[\"hs_directory\"][\"Location 1\"].apply(find_lat)\n",
    "data[\"hs_directory\"][\"lon\"] = data[\"hs_directory\"][\"Location 1\"].apply(find_lon)\n",
    "\n",
    "data[\"hs_directory\"][\"lat\"] = pd.to_numeric(data[\"hs_directory\"][\"lat\"], errors=\"coerce\")\n",
    "data[\"hs_directory\"][\"lon\"] = pd.to_numeric(data[\"hs_directory\"][\"lon\"], errors=\"coerce\")"
   ]
  },
  {
   "cell_type": "markdown",
   "metadata": {},
   "source": [
    "# Condense datasets"
   ]
  },
  {
   "cell_type": "code",
   "execution_count": 7,
   "metadata": {},
   "outputs": [],
   "source": [
    "class_size = data[\"class_size\"]\n",
    "class_size = class_size[class_size[\"GRADE \"] == \"09-12\"]\n",
    "class_size = class_size[class_size[\"PROGRAM TYPE\"] == \"GEN ED\"]\n",
    "\n",
    "class_size = class_size.groupby(\"DBN\").agg(numpy.mean)\n",
    "class_size.reset_index(inplace=True)\n",
    "data[\"class_size\"] = class_size\n",
    "\n",
    "data[\"demographics\"] = data[\"demographics\"][data[\"demographics\"][\"schoolyear\"] == 20112012]\n",
    "\n",
    "data[\"graduation\"] = data[\"graduation\"][data[\"graduation\"][\"Cohort\"] == \"2006\"]\n",
    "data[\"graduation\"] = data[\"graduation\"][data[\"graduation\"][\"Demographic\"] == \"Total Cohort\"]"
   ]
  },
  {
   "cell_type": "markdown",
   "metadata": {},
   "source": [
    "# Convert AP scores to numeric"
   ]
  },
  {
   "cell_type": "code",
   "execution_count": 8,
   "metadata": {},
   "outputs": [],
   "source": [
    "cols = ['AP Test Takers ', 'Total Exams Taken', 'Number of Exams with scores 3 4 or 5']\n",
    "\n",
    "for col in cols:\n",
    "    data[\"ap_2010\"][col] = pd.to_numeric(data[\"ap_2010\"][col], errors=\"coerce\")"
   ]
  },
  {
   "cell_type": "markdown",
   "metadata": {},
   "source": [
    "# Combine the datasets"
   ]
  },
  {
   "cell_type": "code",
   "execution_count": 29,
   "metadata": {},
   "outputs": [
    {
     "data": {
      "text/html": [
       "<div>\n",
       "<style scoped>\n",
       "    .dataframe tbody tr th:only-of-type {\n",
       "        vertical-align: middle;\n",
       "    }\n",
       "\n",
       "    .dataframe tbody tr th {\n",
       "        vertical-align: top;\n",
       "    }\n",
       "\n",
       "    .dataframe thead th {\n",
       "        text-align: right;\n",
       "    }\n",
       "</style>\n",
       "<table border=\"1\" class=\"dataframe\">\n",
       "  <thead>\n",
       "    <tr style=\"text-align: right;\">\n",
       "      <th></th>\n",
       "      <th>DBN</th>\n",
       "      <th>SCHOOL NAME</th>\n",
       "      <th>Num of SAT Test Takers</th>\n",
       "      <th>SAT Critical Reading Avg. Score</th>\n",
       "      <th>SAT Math Avg. Score</th>\n",
       "      <th>SAT Writing Avg. Score</th>\n",
       "      <th>sat_score</th>\n",
       "      <th>SchoolName</th>\n",
       "      <th>AP Test Takers</th>\n",
       "      <th>Total Exams Taken</th>\n",
       "      <th>...</th>\n",
       "      <th>priority04</th>\n",
       "      <th>priority05</th>\n",
       "      <th>priority06</th>\n",
       "      <th>priority07</th>\n",
       "      <th>priority08</th>\n",
       "      <th>priority09</th>\n",
       "      <th>priority10</th>\n",
       "      <th>Location 1</th>\n",
       "      <th>lat</th>\n",
       "      <th>lon</th>\n",
       "    </tr>\n",
       "  </thead>\n",
       "  <tbody>\n",
       "    <tr>\n",
       "      <th>0</th>\n",
       "      <td>01M292</td>\n",
       "      <td>HENRY STREET SCHOOL FOR INTERNATIONAL STUDIES</td>\n",
       "      <td>29</td>\n",
       "      <td>355.0</td>\n",
       "      <td>404.0</td>\n",
       "      <td>363.0</td>\n",
       "      <td>1122.0</td>\n",
       "      <td>0</td>\n",
       "      <td>129.028846</td>\n",
       "      <td>197.038462</td>\n",
       "      <td>...</td>\n",
       "      <td>Then to Manhattan students or residents</td>\n",
       "      <td>Then to New York City residents</td>\n",
       "      <td>0</td>\n",
       "      <td>0</td>\n",
       "      <td>0.0</td>\n",
       "      <td>0.0</td>\n",
       "      <td>0.0</td>\n",
       "      <td>220 Henry Street\\nNew York, NY 10002\\n(40.7137...</td>\n",
       "      <td>40.713764</td>\n",
       "      <td>-73.985260</td>\n",
       "    </tr>\n",
       "    <tr>\n",
       "      <th>1</th>\n",
       "      <td>01M448</td>\n",
       "      <td>UNIVERSITY NEIGHBORHOOD HIGH SCHOOL</td>\n",
       "      <td>91</td>\n",
       "      <td>383.0</td>\n",
       "      <td>423.0</td>\n",
       "      <td>366.0</td>\n",
       "      <td>1172.0</td>\n",
       "      <td>UNIVERSITY NEIGHBORHOOD H.S.</td>\n",
       "      <td>39.000000</td>\n",
       "      <td>49.000000</td>\n",
       "      <td>...</td>\n",
       "      <td>0</td>\n",
       "      <td>0</td>\n",
       "      <td>0</td>\n",
       "      <td>0</td>\n",
       "      <td>0.0</td>\n",
       "      <td>0.0</td>\n",
       "      <td>0.0</td>\n",
       "      <td>200 Monroe Street\\nNew York, NY 10002\\n(40.712...</td>\n",
       "      <td>40.712332</td>\n",
       "      <td>-73.984797</td>\n",
       "    </tr>\n",
       "    <tr>\n",
       "      <th>2</th>\n",
       "      <td>01M450</td>\n",
       "      <td>EAST SIDE COMMUNITY SCHOOL</td>\n",
       "      <td>70</td>\n",
       "      <td>377.0</td>\n",
       "      <td>402.0</td>\n",
       "      <td>370.0</td>\n",
       "      <td>1149.0</td>\n",
       "      <td>EAST SIDE COMMUNITY HS</td>\n",
       "      <td>19.000000</td>\n",
       "      <td>21.000000</td>\n",
       "      <td>...</td>\n",
       "      <td>0</td>\n",
       "      <td>0</td>\n",
       "      <td>0</td>\n",
       "      <td>0</td>\n",
       "      <td>0.0</td>\n",
       "      <td>0.0</td>\n",
       "      <td>0.0</td>\n",
       "      <td>420 East 12 Street\\nNew York, NY 10009\\n(40.72...</td>\n",
       "      <td>40.729783</td>\n",
       "      <td>-73.983041</td>\n",
       "    </tr>\n",
       "    <tr>\n",
       "      <th>3</th>\n",
       "      <td>01M509</td>\n",
       "      <td>MARTA VALLE HIGH SCHOOL</td>\n",
       "      <td>44</td>\n",
       "      <td>390.0</td>\n",
       "      <td>433.0</td>\n",
       "      <td>384.0</td>\n",
       "      <td>1207.0</td>\n",
       "      <td>0</td>\n",
       "      <td>129.028846</td>\n",
       "      <td>197.038462</td>\n",
       "      <td>...</td>\n",
       "      <td>0</td>\n",
       "      <td>0</td>\n",
       "      <td>0</td>\n",
       "      <td>0</td>\n",
       "      <td>0.0</td>\n",
       "      <td>0.0</td>\n",
       "      <td>0.0</td>\n",
       "      <td>145 Stanton Street\\nNew York, NY 10002\\n(40.72...</td>\n",
       "      <td>40.720569</td>\n",
       "      <td>-73.985673</td>\n",
       "    </tr>\n",
       "    <tr>\n",
       "      <th>4</th>\n",
       "      <td>01M539</td>\n",
       "      <td>NEW EXPLORATIONS INTO SCIENCE, TECHNOLOGY AND ...</td>\n",
       "      <td>159</td>\n",
       "      <td>522.0</td>\n",
       "      <td>574.0</td>\n",
       "      <td>525.0</td>\n",
       "      <td>1621.0</td>\n",
       "      <td>NEW EXPLORATIONS SCI,TECH,MATH</td>\n",
       "      <td>255.000000</td>\n",
       "      <td>377.000000</td>\n",
       "      <td>...</td>\n",
       "      <td>0</td>\n",
       "      <td>0</td>\n",
       "      <td>0</td>\n",
       "      <td>0</td>\n",
       "      <td>0.0</td>\n",
       "      <td>0.0</td>\n",
       "      <td>0.0</td>\n",
       "      <td>111 Columbia Street\\nNew York, NY 10002\\n(40.7...</td>\n",
       "      <td>40.718725</td>\n",
       "      <td>-73.979426</td>\n",
       "    </tr>\n",
       "  </tbody>\n",
       "</table>\n",
       "<p>5 rows × 159 columns</p>\n",
       "</div>"
      ],
      "text/plain": [
       "      DBN                                        SCHOOL NAME  \\\n",
       "0  01M292      HENRY STREET SCHOOL FOR INTERNATIONAL STUDIES   \n",
       "1  01M448                UNIVERSITY NEIGHBORHOOD HIGH SCHOOL   \n",
       "2  01M450                         EAST SIDE COMMUNITY SCHOOL   \n",
       "3  01M509                            MARTA VALLE HIGH SCHOOL   \n",
       "4  01M539  NEW EXPLORATIONS INTO SCIENCE, TECHNOLOGY AND ...   \n",
       "\n",
       "  Num of SAT Test Takers  SAT Critical Reading Avg. Score  \\\n",
       "0                     29                            355.0   \n",
       "1                     91                            383.0   \n",
       "2                     70                            377.0   \n",
       "3                     44                            390.0   \n",
       "4                    159                            522.0   \n",
       "\n",
       "   SAT Math Avg. Score  SAT Writing Avg. Score  sat_score  \\\n",
       "0                404.0                   363.0     1122.0   \n",
       "1                423.0                   366.0     1172.0   \n",
       "2                402.0                   370.0     1149.0   \n",
       "3                433.0                   384.0     1207.0   \n",
       "4                574.0                   525.0     1621.0   \n",
       "\n",
       "                       SchoolName  AP Test Takers   Total Exams Taken  ...  \\\n",
       "0                               0       129.028846         197.038462  ...   \n",
       "1    UNIVERSITY NEIGHBORHOOD H.S.        39.000000          49.000000  ...   \n",
       "2          EAST SIDE COMMUNITY HS        19.000000          21.000000  ...   \n",
       "3                               0       129.028846         197.038462  ...   \n",
       "4  NEW EXPLORATIONS SCI,TECH,MATH       255.000000         377.000000  ...   \n",
       "\n",
       "                                priority04                       priority05  \\\n",
       "0  Then to Manhattan students or residents  Then to New York City residents   \n",
       "1                                        0                                0   \n",
       "2                                        0                                0   \n",
       "3                                        0                                0   \n",
       "4                                        0                                0   \n",
       "\n",
       "  priority06 priority07  priority08 priority09 priority10  \\\n",
       "0          0          0         0.0        0.0        0.0   \n",
       "1          0          0         0.0        0.0        0.0   \n",
       "2          0          0         0.0        0.0        0.0   \n",
       "3          0          0         0.0        0.0        0.0   \n",
       "4          0          0         0.0        0.0        0.0   \n",
       "\n",
       "                                          Location 1        lat        lon  \n",
       "0  220 Henry Street\\nNew York, NY 10002\\n(40.7137...  40.713764 -73.985260  \n",
       "1  200 Monroe Street\\nNew York, NY 10002\\n(40.712...  40.712332 -73.984797  \n",
       "2  420 East 12 Street\\nNew York, NY 10009\\n(40.72...  40.729783 -73.983041  \n",
       "3  145 Stanton Street\\nNew York, NY 10002\\n(40.72...  40.720569 -73.985673  \n",
       "4  111 Columbia Street\\nNew York, NY 10002\\n(40.7...  40.718725 -73.979426  \n",
       "\n",
       "[5 rows x 159 columns]"
      ]
     },
     "execution_count": 29,
     "metadata": {},
     "output_type": "execute_result"
    }
   ],
   "source": [
    "combined = data[\"sat_results\"]\n",
    "\n",
    "combined = combined.merge(data[\"ap_2010\"], on=\"DBN\", how=\"left\")\n",
    "combined = combined.merge(data[\"graduation\"], on=\"DBN\", how=\"left\")\n",
    "\n",
    "to_merge = [\"class_size\", \"demographics\", \"survey\", \"hs_directory\"]\n",
    "\n",
    "for m in to_merge:\n",
    "    combined = combined.merge(data[m], on=\"DBN\", how=\"inner\")\n",
    "\n",
    "combined = combined.fillna(combined.mean())\n",
    "combined = combined.fillna(0)\n",
    "combined.head()"
   ]
  },
  {
   "cell_type": "markdown",
   "metadata": {},
   "source": [
    "# Add a school district column for mapping"
   ]
  },
  {
   "cell_type": "code",
   "execution_count": 35,
   "metadata": {},
   "outputs": [
    {
     "data": {
      "text/html": [
       "<div>\n",
       "<style scoped>\n",
       "    .dataframe tbody tr th:only-of-type {\n",
       "        vertical-align: middle;\n",
       "    }\n",
       "\n",
       "    .dataframe tbody tr th {\n",
       "        vertical-align: top;\n",
       "    }\n",
       "\n",
       "    .dataframe thead th {\n",
       "        text-align: right;\n",
       "    }\n",
       "</style>\n",
       "<table border=\"1\" class=\"dataframe\">\n",
       "  <thead>\n",
       "    <tr style=\"text-align: right;\">\n",
       "      <th></th>\n",
       "      <th>DBN</th>\n",
       "      <th>SCHOOL NAME</th>\n",
       "      <th>Num of SAT Test Takers</th>\n",
       "      <th>SAT Critical Reading Avg. Score</th>\n",
       "      <th>SAT Math Avg. Score</th>\n",
       "      <th>SAT Writing Avg. Score</th>\n",
       "      <th>sat_score</th>\n",
       "      <th>SchoolName</th>\n",
       "      <th>AP Test Takers</th>\n",
       "      <th>Total Exams Taken</th>\n",
       "      <th>...</th>\n",
       "      <th>priority05</th>\n",
       "      <th>priority06</th>\n",
       "      <th>priority07</th>\n",
       "      <th>priority08</th>\n",
       "      <th>priority09</th>\n",
       "      <th>priority10</th>\n",
       "      <th>Location 1</th>\n",
       "      <th>lat</th>\n",
       "      <th>lon</th>\n",
       "      <th>school_dist</th>\n",
       "    </tr>\n",
       "  </thead>\n",
       "  <tbody>\n",
       "    <tr>\n",
       "      <th>0</th>\n",
       "      <td>01M292</td>\n",
       "      <td>HENRY STREET SCHOOL FOR INTERNATIONAL STUDIES</td>\n",
       "      <td>29</td>\n",
       "      <td>355.0</td>\n",
       "      <td>404.0</td>\n",
       "      <td>363.0</td>\n",
       "      <td>1122.0</td>\n",
       "      <td>0</td>\n",
       "      <td>129.028846</td>\n",
       "      <td>197.038462</td>\n",
       "      <td>...</td>\n",
       "      <td>Then to New York City residents</td>\n",
       "      <td>0</td>\n",
       "      <td>0</td>\n",
       "      <td>0.0</td>\n",
       "      <td>0.0</td>\n",
       "      <td>0.0</td>\n",
       "      <td>220 Henry Street\\nNew York, NY 10002\\n(40.7137...</td>\n",
       "      <td>40.713764</td>\n",
       "      <td>-73.985260</td>\n",
       "      <td>01</td>\n",
       "    </tr>\n",
       "    <tr>\n",
       "      <th>1</th>\n",
       "      <td>01M448</td>\n",
       "      <td>UNIVERSITY NEIGHBORHOOD HIGH SCHOOL</td>\n",
       "      <td>91</td>\n",
       "      <td>383.0</td>\n",
       "      <td>423.0</td>\n",
       "      <td>366.0</td>\n",
       "      <td>1172.0</td>\n",
       "      <td>UNIVERSITY NEIGHBORHOOD H.S.</td>\n",
       "      <td>39.000000</td>\n",
       "      <td>49.000000</td>\n",
       "      <td>...</td>\n",
       "      <td>0</td>\n",
       "      <td>0</td>\n",
       "      <td>0</td>\n",
       "      <td>0.0</td>\n",
       "      <td>0.0</td>\n",
       "      <td>0.0</td>\n",
       "      <td>200 Monroe Street\\nNew York, NY 10002\\n(40.712...</td>\n",
       "      <td>40.712332</td>\n",
       "      <td>-73.984797</td>\n",
       "      <td>01</td>\n",
       "    </tr>\n",
       "    <tr>\n",
       "      <th>2</th>\n",
       "      <td>01M450</td>\n",
       "      <td>EAST SIDE COMMUNITY SCHOOL</td>\n",
       "      <td>70</td>\n",
       "      <td>377.0</td>\n",
       "      <td>402.0</td>\n",
       "      <td>370.0</td>\n",
       "      <td>1149.0</td>\n",
       "      <td>EAST SIDE COMMUNITY HS</td>\n",
       "      <td>19.000000</td>\n",
       "      <td>21.000000</td>\n",
       "      <td>...</td>\n",
       "      <td>0</td>\n",
       "      <td>0</td>\n",
       "      <td>0</td>\n",
       "      <td>0.0</td>\n",
       "      <td>0.0</td>\n",
       "      <td>0.0</td>\n",
       "      <td>420 East 12 Street\\nNew York, NY 10009\\n(40.72...</td>\n",
       "      <td>40.729783</td>\n",
       "      <td>-73.983041</td>\n",
       "      <td>01</td>\n",
       "    </tr>\n",
       "    <tr>\n",
       "      <th>3</th>\n",
       "      <td>01M509</td>\n",
       "      <td>MARTA VALLE HIGH SCHOOL</td>\n",
       "      <td>44</td>\n",
       "      <td>390.0</td>\n",
       "      <td>433.0</td>\n",
       "      <td>384.0</td>\n",
       "      <td>1207.0</td>\n",
       "      <td>0</td>\n",
       "      <td>129.028846</td>\n",
       "      <td>197.038462</td>\n",
       "      <td>...</td>\n",
       "      <td>0</td>\n",
       "      <td>0</td>\n",
       "      <td>0</td>\n",
       "      <td>0.0</td>\n",
       "      <td>0.0</td>\n",
       "      <td>0.0</td>\n",
       "      <td>145 Stanton Street\\nNew York, NY 10002\\n(40.72...</td>\n",
       "      <td>40.720569</td>\n",
       "      <td>-73.985673</td>\n",
       "      <td>01</td>\n",
       "    </tr>\n",
       "    <tr>\n",
       "      <th>4</th>\n",
       "      <td>01M539</td>\n",
       "      <td>NEW EXPLORATIONS INTO SCIENCE, TECHNOLOGY AND ...</td>\n",
       "      <td>159</td>\n",
       "      <td>522.0</td>\n",
       "      <td>574.0</td>\n",
       "      <td>525.0</td>\n",
       "      <td>1621.0</td>\n",
       "      <td>NEW EXPLORATIONS SCI,TECH,MATH</td>\n",
       "      <td>255.000000</td>\n",
       "      <td>377.000000</td>\n",
       "      <td>...</td>\n",
       "      <td>0</td>\n",
       "      <td>0</td>\n",
       "      <td>0</td>\n",
       "      <td>0.0</td>\n",
       "      <td>0.0</td>\n",
       "      <td>0.0</td>\n",
       "      <td>111 Columbia Street\\nNew York, NY 10002\\n(40.7...</td>\n",
       "      <td>40.718725</td>\n",
       "      <td>-73.979426</td>\n",
       "      <td>01</td>\n",
       "    </tr>\n",
       "    <tr>\n",
       "      <th>...</th>\n",
       "      <td>...</td>\n",
       "      <td>...</td>\n",
       "      <td>...</td>\n",
       "      <td>...</td>\n",
       "      <td>...</td>\n",
       "      <td>...</td>\n",
       "      <td>...</td>\n",
       "      <td>...</td>\n",
       "      <td>...</td>\n",
       "      <td>...</td>\n",
       "      <td>...</td>\n",
       "      <td>...</td>\n",
       "      <td>...</td>\n",
       "      <td>...</td>\n",
       "      <td>...</td>\n",
       "      <td>...</td>\n",
       "      <td>...</td>\n",
       "      <td>...</td>\n",
       "      <td>...</td>\n",
       "      <td>...</td>\n",
       "      <td>...</td>\n",
       "    </tr>\n",
       "    <tr>\n",
       "      <th>358</th>\n",
       "      <td>32K545</td>\n",
       "      <td>EBC HIGH SCHOOL FOR PUBLIC SERVICE–BUSHWICK</td>\n",
       "      <td>88</td>\n",
       "      <td>384.0</td>\n",
       "      <td>409.0</td>\n",
       "      <td>361.0</td>\n",
       "      <td>1154.0</td>\n",
       "      <td>EBC-HS FOR PUB SERVICE (BUSH)</td>\n",
       "      <td>47.000000</td>\n",
       "      <td>64.000000</td>\n",
       "      <td>...</td>\n",
       "      <td>0</td>\n",
       "      <td>0</td>\n",
       "      <td>0</td>\n",
       "      <td>0.0</td>\n",
       "      <td>0.0</td>\n",
       "      <td>0.0</td>\n",
       "      <td>1155 Dekalb Avenue\\nBrooklyn, NY 11221\\n(40.69...</td>\n",
       "      <td>40.694482</td>\n",
       "      <td>-73.929154</td>\n",
       "      <td>32</td>\n",
       "    </tr>\n",
       "    <tr>\n",
       "      <th>359</th>\n",
       "      <td>32K549</td>\n",
       "      <td>BUSHWICK SCHOOL FOR SOCIAL JUSTICE</td>\n",
       "      <td>75</td>\n",
       "      <td>348.0</td>\n",
       "      <td>353.0</td>\n",
       "      <td>334.0</td>\n",
       "      <td>1035.0</td>\n",
       "      <td>0</td>\n",
       "      <td>129.028846</td>\n",
       "      <td>197.038462</td>\n",
       "      <td>...</td>\n",
       "      <td>Then to Brooklyn students or residents</td>\n",
       "      <td>Then to New York City residents</td>\n",
       "      <td>0</td>\n",
       "      <td>0.0</td>\n",
       "      <td>0.0</td>\n",
       "      <td>0.0</td>\n",
       "      <td>400 Irving Avenue\\nBrooklyn, NY 11237\\n(40.696...</td>\n",
       "      <td>40.696962</td>\n",
       "      <td>-73.910816</td>\n",
       "      <td>32</td>\n",
       "    </tr>\n",
       "    <tr>\n",
       "      <th>360</th>\n",
       "      <td>32K552</td>\n",
       "      <td>ACADEMY OF URBAN PLANNING</td>\n",
       "      <td>67</td>\n",
       "      <td>342.0</td>\n",
       "      <td>364.0</td>\n",
       "      <td>354.0</td>\n",
       "      <td>1060.0</td>\n",
       "      <td>Academy of Urban Planning</td>\n",
       "      <td>76.000000</td>\n",
       "      <td>100.000000</td>\n",
       "      <td>...</td>\n",
       "      <td>0</td>\n",
       "      <td>0</td>\n",
       "      <td>0</td>\n",
       "      <td>0.0</td>\n",
       "      <td>0.0</td>\n",
       "      <td>0.0</td>\n",
       "      <td>400 Irving Avenue\\nBrooklyn, NY 11237\\n(40.696...</td>\n",
       "      <td>40.696962</td>\n",
       "      <td>-73.910816</td>\n",
       "      <td>32</td>\n",
       "    </tr>\n",
       "    <tr>\n",
       "      <th>361</th>\n",
       "      <td>32K554</td>\n",
       "      <td>ALL CITY LEADERSHIP SECONDARY SCHOOL</td>\n",
       "      <td>39</td>\n",
       "      <td>428.0</td>\n",
       "      <td>465.0</td>\n",
       "      <td>422.0</td>\n",
       "      <td>1315.0</td>\n",
       "      <td>All City Leadership Secondary School</td>\n",
       "      <td>7.000000</td>\n",
       "      <td>8.000000</td>\n",
       "      <td>...</td>\n",
       "      <td>Then to Districts 24, 30 and 32 students or re...</td>\n",
       "      <td>Then to Brooklyn students or residents</td>\n",
       "      <td>Then to New York City residents</td>\n",
       "      <td>0.0</td>\n",
       "      <td>0.0</td>\n",
       "      <td>0.0</td>\n",
       "      <td>321 Palmetto Street\\nBrooklyn, NY 11237\\n(40.6...</td>\n",
       "      <td>40.697408</td>\n",
       "      <td>-73.913153</td>\n",
       "      <td>32</td>\n",
       "    </tr>\n",
       "    <tr>\n",
       "      <th>362</th>\n",
       "      <td>32K556</td>\n",
       "      <td>BUSHWICK LEADERS HIGH SCHOOL FOR ACADEMIC EXCE...</td>\n",
       "      <td>23</td>\n",
       "      <td>347.0</td>\n",
       "      <td>358.0</td>\n",
       "      <td>350.0</td>\n",
       "      <td>1055.0</td>\n",
       "      <td>Bushwick Leaders High School for Academic Exce...</td>\n",
       "      <td>34.000000</td>\n",
       "      <td>35.000000</td>\n",
       "      <td>...</td>\n",
       "      <td>Then to Brooklyn students or residents</td>\n",
       "      <td>Then to New York City residents</td>\n",
       "      <td>0</td>\n",
       "      <td>0.0</td>\n",
       "      <td>0.0</td>\n",
       "      <td>0.0</td>\n",
       "      <td>797 Bushwick Avenue\\nBrooklyn, NY 11221\\n(40.6...</td>\n",
       "      <td>40.694996</td>\n",
       "      <td>-73.927986</td>\n",
       "      <td>32</td>\n",
       "    </tr>\n",
       "  </tbody>\n",
       "</table>\n",
       "<p>363 rows × 160 columns</p>\n",
       "</div>"
      ],
      "text/plain": [
       "        DBN                                        SCHOOL NAME  \\\n",
       "0    01M292      HENRY STREET SCHOOL FOR INTERNATIONAL STUDIES   \n",
       "1    01M448                UNIVERSITY NEIGHBORHOOD HIGH SCHOOL   \n",
       "2    01M450                         EAST SIDE COMMUNITY SCHOOL   \n",
       "3    01M509                            MARTA VALLE HIGH SCHOOL   \n",
       "4    01M539  NEW EXPLORATIONS INTO SCIENCE, TECHNOLOGY AND ...   \n",
       "..      ...                                                ...   \n",
       "358  32K545        EBC HIGH SCHOOL FOR PUBLIC SERVICE–BUSHWICK   \n",
       "359  32K549                 BUSHWICK SCHOOL FOR SOCIAL JUSTICE   \n",
       "360  32K552                          ACADEMY OF URBAN PLANNING   \n",
       "361  32K554               ALL CITY LEADERSHIP SECONDARY SCHOOL   \n",
       "362  32K556  BUSHWICK LEADERS HIGH SCHOOL FOR ACADEMIC EXCE...   \n",
       "\n",
       "    Num of SAT Test Takers  SAT Critical Reading Avg. Score  \\\n",
       "0                       29                            355.0   \n",
       "1                       91                            383.0   \n",
       "2                       70                            377.0   \n",
       "3                       44                            390.0   \n",
       "4                      159                            522.0   \n",
       "..                     ...                              ...   \n",
       "358                     88                            384.0   \n",
       "359                     75                            348.0   \n",
       "360                     67                            342.0   \n",
       "361                     39                            428.0   \n",
       "362                     23                            347.0   \n",
       "\n",
       "     SAT Math Avg. Score  SAT Writing Avg. Score  sat_score  \\\n",
       "0                  404.0                   363.0     1122.0   \n",
       "1                  423.0                   366.0     1172.0   \n",
       "2                  402.0                   370.0     1149.0   \n",
       "3                  433.0                   384.0     1207.0   \n",
       "4                  574.0                   525.0     1621.0   \n",
       "..                   ...                     ...        ...   \n",
       "358                409.0                   361.0     1154.0   \n",
       "359                353.0                   334.0     1035.0   \n",
       "360                364.0                   354.0     1060.0   \n",
       "361                465.0                   422.0     1315.0   \n",
       "362                358.0                   350.0     1055.0   \n",
       "\n",
       "                                            SchoolName  AP Test Takers   \\\n",
       "0                                                    0       129.028846   \n",
       "1                         UNIVERSITY NEIGHBORHOOD H.S.        39.000000   \n",
       "2                               EAST SIDE COMMUNITY HS        19.000000   \n",
       "3                                                    0       129.028846   \n",
       "4                       NEW EXPLORATIONS SCI,TECH,MATH       255.000000   \n",
       "..                                                 ...              ...   \n",
       "358                      EBC-HS FOR PUB SERVICE (BUSH)        47.000000   \n",
       "359                                                  0       129.028846   \n",
       "360                          Academy of Urban Planning        76.000000   \n",
       "361               All City Leadership Secondary School         7.000000   \n",
       "362  Bushwick Leaders High School for Academic Exce...        34.000000   \n",
       "\n",
       "     Total Exams Taken  ...  \\\n",
       "0           197.038462  ...   \n",
       "1            49.000000  ...   \n",
       "2            21.000000  ...   \n",
       "3           197.038462  ...   \n",
       "4           377.000000  ...   \n",
       "..                 ...  ...   \n",
       "358          64.000000  ...   \n",
       "359         197.038462  ...   \n",
       "360         100.000000  ...   \n",
       "361           8.000000  ...   \n",
       "362          35.000000  ...   \n",
       "\n",
       "                                            priority05  \\\n",
       "0                      Then to New York City residents   \n",
       "1                                                    0   \n",
       "2                                                    0   \n",
       "3                                                    0   \n",
       "4                                                    0   \n",
       "..                                                 ...   \n",
       "358                                                  0   \n",
       "359             Then to Brooklyn students or residents   \n",
       "360                                                  0   \n",
       "361  Then to Districts 24, 30 and 32 students or re...   \n",
       "362             Then to Brooklyn students or residents   \n",
       "\n",
       "                                 priority06                       priority07  \\\n",
       "0                                         0                                0   \n",
       "1                                         0                                0   \n",
       "2                                         0                                0   \n",
       "3                                         0                                0   \n",
       "4                                         0                                0   \n",
       "..                                      ...                              ...   \n",
       "358                                       0                                0   \n",
       "359         Then to New York City residents                                0   \n",
       "360                                       0                                0   \n",
       "361  Then to Brooklyn students or residents  Then to New York City residents   \n",
       "362         Then to New York City residents                                0   \n",
       "\n",
       "    priority08  priority09 priority10  \\\n",
       "0          0.0         0.0        0.0   \n",
       "1          0.0         0.0        0.0   \n",
       "2          0.0         0.0        0.0   \n",
       "3          0.0         0.0        0.0   \n",
       "4          0.0         0.0        0.0   \n",
       "..         ...         ...        ...   \n",
       "358        0.0         0.0        0.0   \n",
       "359        0.0         0.0        0.0   \n",
       "360        0.0         0.0        0.0   \n",
       "361        0.0         0.0        0.0   \n",
       "362        0.0         0.0        0.0   \n",
       "\n",
       "                                            Location 1        lat        lon  \\\n",
       "0    220 Henry Street\\nNew York, NY 10002\\n(40.7137...  40.713764 -73.985260   \n",
       "1    200 Monroe Street\\nNew York, NY 10002\\n(40.712...  40.712332 -73.984797   \n",
       "2    420 East 12 Street\\nNew York, NY 10009\\n(40.72...  40.729783 -73.983041   \n",
       "3    145 Stanton Street\\nNew York, NY 10002\\n(40.72...  40.720569 -73.985673   \n",
       "4    111 Columbia Street\\nNew York, NY 10002\\n(40.7...  40.718725 -73.979426   \n",
       "..                                                 ...        ...        ...   \n",
       "358  1155 Dekalb Avenue\\nBrooklyn, NY 11221\\n(40.69...  40.694482 -73.929154   \n",
       "359  400 Irving Avenue\\nBrooklyn, NY 11237\\n(40.696...  40.696962 -73.910816   \n",
       "360  400 Irving Avenue\\nBrooklyn, NY 11237\\n(40.696...  40.696962 -73.910816   \n",
       "361  321 Palmetto Street\\nBrooklyn, NY 11237\\n(40.6...  40.697408 -73.913153   \n",
       "362  797 Bushwick Avenue\\nBrooklyn, NY 11221\\n(40.6...  40.694996 -73.927986   \n",
       "\n",
       "    school_dist  \n",
       "0            01  \n",
       "1            01  \n",
       "2            01  \n",
       "3            01  \n",
       "4            01  \n",
       "..          ...  \n",
       "358          32  \n",
       "359          32  \n",
       "360          32  \n",
       "361          32  \n",
       "362          32  \n",
       "\n",
       "[363 rows x 160 columns]"
      ]
     },
     "execution_count": 35,
     "metadata": {},
     "output_type": "execute_result"
    }
   ],
   "source": [
    "def get_first_two_chars(dbn):\n",
    "    return dbn[0:2]\n",
    "\n",
    "combined[\"school_dist\"] = combined[\"DBN\"].apply(get_first_two_chars)\n",
    "combined"
   ]
  },
  {
   "cell_type": "markdown",
   "metadata": {},
   "source": [
    "# Find correlations"
   ]
  },
  {
   "cell_type": "code",
   "execution_count": 28,
   "metadata": {},
   "outputs": [
    {
     "data": {
      "text/plain": [
       "SAT Critical Reading Avg. Score    0.986820\n",
       "SAT Math Avg. Score                0.972643\n",
       "SAT Writing Avg. Score             0.987771\n",
       "sat_score                          1.000000\n",
       "AP Test Takers                     0.523140\n",
       "                                     ...   \n",
       "priority08                              NaN\n",
       "priority09                              NaN\n",
       "priority10                              NaN\n",
       "lat                               -0.121029\n",
       "lon                               -0.132222\n",
       "Name: sat_score, Length: 67, dtype: float64"
      ]
     },
     "execution_count": 28,
     "metadata": {},
     "output_type": "execute_result"
    }
   ],
   "source": [
    "correlations = combined.corr()\n",
    "correlations = correlations[\"sat_score\"]\n",
    "correlations"
   ]
  },
  {
   "cell_type": "markdown",
   "metadata": {},
   "source": [
    "# Plotting survey correlations"
   ]
  },
  {
   "cell_type": "code",
   "execution_count": 12,
   "metadata": {},
   "outputs": [],
   "source": [
    "# Remove DBN since it's a unique identifier, not a useful numerical value for correlation.\n",
    "survey_fields.remove(\"DBN\")"
   ]
  },
  {
   "cell_type": "code",
   "execution_count": 20,
   "metadata": {},
   "outputs": [
    {
     "data": {
      "text/plain": [
       "<matplotlib.axes._subplots.AxesSubplot at 0x7f2da2aa7310>"
      ]
     },
     "execution_count": 20,
     "metadata": {},
     "output_type": "execute_result"
    },
    {
     "data": {
      "image/png": "[encoded data removed]",
      "text/plain": [
       "<Figure size 600x400 with 1 Axes>"
      ]
     },
     "metadata": {},
     "output_type": "display_data"
    }
   ],
   "source": [
    "correlations = combined[survey_fields].corrwith(combined['sat_score']).sort_values()\n",
    "correlations.plot(kind = 'barh')"
   ]
  },
  {
   "cell_type": "markdown",
   "metadata": {},
   "source": [
    "There is a strong correlation with the number of students and teachers, so we confirm that bigger schools perform better\n",
    "\n",
    "Also we find a strong correlation with students' academic expectations and safety and respect scores. Let's dig into this relationship and try to figure out which schools have low safety scores."
   ]
  },
  {
   "cell_type": "markdown",
   "metadata": {},
   "source": [
    "## Safety"
   ]
  },
  {
   "cell_type": "code",
   "execution_count": 23,
   "metadata": {},
   "outputs": [
    {
     "data": {
      "text/plain": [
       "<matplotlib.axes._subplots.AxesSubplot at 0x7f2da252f880>"
      ]
     },
     "execution_count": 23,
     "metadata": {},
     "output_type": "execute_result"
    },
    {
     "data": {
      "image/png": "[encoded data removed]",
      "text/plain": [
       "<Figure size 600x400 with 1 Axes>"
      ]
     },
     "metadata": {},
     "output_type": "display_data"
    }
   ],
   "source": [
    "combined.plot(kind = 'scatter',x = 'saf_s_11', y = 'sat_score')"
   ]
  },
  {
   "cell_type": "markdown",
   "metadata": {},
   "source": [
    "We confirm a weak positive correlation but we notice that schools where students perceive a lower safety and respect have sat score below 1300 points. Instead, schools with a better safety score span on a greater range.\n",
    "Let's see is safety score is related to the school position."
   ]
  },
  {
   "cell_type": "code",
   "execution_count": 41,
   "metadata": {},
   "outputs": [
    {
     "data": {
      "text/plain": [
       "boro\n",
       "Bronx            6.606577\n",
       "Brooklyn         6.370755\n",
       "Manhattan        6.831370\n",
       "Queens           6.721875\n",
       "Staten Island    6.530000\n",
       "Name: saf_s_11, dtype: float64"
      ]
     },
     "execution_count": 41,
     "metadata": {},
     "output_type": "execute_result"
    }
   ],
   "source": [
    "combined.groupby(by ='boro').agg(numpy.mean)['saf_s_11']"
   ]
  },
  {
   "cell_type": "markdown",
   "metadata": {},
   "source": [
    "Manhattan and Queens have higher safety scores, Brooklyn the lowest one."
   ]
  },
  {
   "cell_type": "markdown",
   "metadata": {},
   "source": [
    "## Race"
   ]
  },
  {
   "cell_type": "code",
   "execution_count": 47,
   "metadata": {},
   "outputs": [
    {
     "data": {
      "text/plain": [
       "<matplotlib.axes._subplots.AxesSubplot at 0x7f2da3b85d30>"
      ]
     },
     "execution_count": 47,
     "metadata": {},
     "output_type": "execute_result"
    },
    {
     "data": {
      "image/png": "[encoded data removed]",
      "text/plain": [
       "<Figure size 600x400 with 1 Axes>"
      ]
     },
     "metadata": {},
     "output_type": "display_data"
    }
   ],
   "source": [
    "races_cols = [\n",
    "    'white_per',\n",
    "    'asian_per',\n",
    "    'black_per',\n",
    "    'hispanic_per'\n",
    "]\n",
    "\n",
    "correlations = combined[races_cols].corrwith(combined['sat_score']).sort_values()\n",
    "correlations.plot(kind = 'barh')"
   ]
  },
  {
   "cell_type": "markdown",
   "metadata": {},
   "source": [
    "Apparently SAT survey have different outcomes depending on a race component."
   ]
  },
  {
   "cell_type": "code",
   "execution_count": 48,
   "metadata": {},
   "outputs": [
    {
     "data": {
      "text/plain": [
       "<matplotlib.axes._subplots.AxesSubplot at 0x7f2da1cca400>"
      ]
     },
     "execution_count": 48,
     "metadata": {},
     "output_type": "execute_result"
    },
    {
     "data": {
      "image/png": "[encoded data removed]",
      "text/plain": [
       "<Figure size 600x400 with 1 Axes>"
      ]
     },
     "metadata": {},
     "output_type": "display_data"
    }
   ],
   "source": [
    "combined.plot(kind = 'scatter', x = 'hispanic_per', y = 'sat_score')"
   ]
  },
  {
   "cell_type": "markdown",
   "metadata": {},
   "source": [
    "Data are more dispersed but reach higher score where hispanic student are fewer. There are a small number of school with 100% hispanic students with low score. Let's see them more closely:"
   ]
  },
  {
   "cell_type": "code",
   "execution_count": 54,
   "metadata": {
    "scrolled": true
   },
   "outputs": [
    {
     "data": {
      "text/html": [
       "<div>\n",
       "<style scoped>\n",
       "    .dataframe tbody tr th:only-of-type {\n",
       "        vertical-align: middle;\n",
       "    }\n",
       "\n",
       "    .dataframe tbody tr th {\n",
       "        vertical-align: top;\n",
       "    }\n",
       "\n",
       "    .dataframe thead th {\n",
       "        text-align: right;\n",
       "    }\n",
       "</style>\n",
       "<table border=\"1\" class=\"dataframe\">\n",
       "  <thead>\n",
       "    <tr style=\"text-align: right;\">\n",
       "      <th></th>\n",
       "      <th>SCHOOL NAME</th>\n",
       "      <th>sat_score</th>\n",
       "    </tr>\n",
       "  </thead>\n",
       "  <tbody>\n",
       "    <tr>\n",
       "      <th>44</th>\n",
       "      <td>MANHATTAN BRIDGES HIGH SCHOOL</td>\n",
       "      <td>1058.0</td>\n",
       "    </tr>\n",
       "    <tr>\n",
       "      <th>82</th>\n",
       "      <td>WASHINGTON HEIGHTS EXPEDITIONARY LEARNING SCHOOL</td>\n",
       "      <td>1174.0</td>\n",
       "    </tr>\n",
       "    <tr>\n",
       "      <th>89</th>\n",
       "      <td>GREGORIO LUPERON HIGH SCHOOL FOR SCIENCE AND M...</td>\n",
       "      <td>1014.0</td>\n",
       "    </tr>\n",
       "    <tr>\n",
       "      <th>125</th>\n",
       "      <td>ACADEMY FOR LANGUAGE AND TECHNOLOGY</td>\n",
       "      <td>951.0</td>\n",
       "    </tr>\n",
       "    <tr>\n",
       "      <th>141</th>\n",
       "      <td>INTERNATIONAL SCHOOL FOR LIBERAL ARTS</td>\n",
       "      <td>934.0</td>\n",
       "    </tr>\n",
       "    <tr>\n",
       "      <th>176</th>\n",
       "      <td>PAN AMERICAN INTERNATIONAL HIGH SCHOOL AT MONROE</td>\n",
       "      <td>970.0</td>\n",
       "    </tr>\n",
       "    <tr>\n",
       "      <th>253</th>\n",
       "      <td>MULTICULTURAL HIGH SCHOOL</td>\n",
       "      <td>887.0</td>\n",
       "    </tr>\n",
       "    <tr>\n",
       "      <th>286</th>\n",
       "      <td>PAN AMERICAN INTERNATIONAL HIGH SCHOOL</td>\n",
       "      <td>951.0</td>\n",
       "    </tr>\n",
       "  </tbody>\n",
       "</table>\n",
       "</div>"
      ],
      "text/plain": [
       "                                           SCHOOL NAME  sat_score\n",
       "44                       MANHATTAN BRIDGES HIGH SCHOOL     1058.0\n",
       "82    WASHINGTON HEIGHTS EXPEDITIONARY LEARNING SCHOOL     1174.0\n",
       "89   GREGORIO LUPERON HIGH SCHOOL FOR SCIENCE AND M...     1014.0\n",
       "125                ACADEMY FOR LANGUAGE AND TECHNOLOGY      951.0\n",
       "141              INTERNATIONAL SCHOOL FOR LIBERAL ARTS      934.0\n",
       "176   PAN AMERICAN INTERNATIONAL HIGH SCHOOL AT MONROE      970.0\n",
       "253                          MULTICULTURAL HIGH SCHOOL      887.0\n",
       "286             PAN AMERICAN INTERNATIONAL HIGH SCHOOL      951.0"
      ]
     },
     "execution_count": 54,
     "metadata": {},
     "output_type": "execute_result"
    }
   ],
   "source": [
    "combined.loc[combined['hispanic_per']>95, ['SCHOOL NAME', 'sat_score']]"
   ]
  },
  {
   "cell_type": "markdown",
   "metadata": {},
   "source": [
    "Many of these schools are oriented to immigrants and some contents of their website are in spanish.\n",
    "\n",
    "Let's see now the opposite case, where hispanic are fewer and sat score is higher."
   ]
  },
  {
   "cell_type": "code",
   "execution_count": 56,
   "metadata": {
    "scrolled": false
   },
   "outputs": [
    {
     "data": {
      "text/html": [
       "<div>\n",
       "<style scoped>\n",
       "    .dataframe tbody tr th:only-of-type {\n",
       "        vertical-align: middle;\n",
       "    }\n",
       "\n",
       "    .dataframe tbody tr th {\n",
       "        vertical-align: top;\n",
       "    }\n",
       "\n",
       "    .dataframe thead th {\n",
       "        text-align: right;\n",
       "    }\n",
       "</style>\n",
       "<table border=\"1\" class=\"dataframe\">\n",
       "  <thead>\n",
       "    <tr style=\"text-align: right;\">\n",
       "      <th></th>\n",
       "      <th>SCHOOL NAME</th>\n",
       "      <th>sat_score</th>\n",
       "    </tr>\n",
       "  </thead>\n",
       "  <tbody>\n",
       "    <tr>\n",
       "      <th>37</th>\n",
       "      <td>STUYVESANT HIGH SCHOOL</td>\n",
       "      <td>2096.0</td>\n",
       "    </tr>\n",
       "    <tr>\n",
       "      <th>151</th>\n",
       "      <td>BRONX HIGH SCHOOL OF SCIENCE</td>\n",
       "      <td>1969.0</td>\n",
       "    </tr>\n",
       "    <tr>\n",
       "      <th>187</th>\n",
       "      <td>BROOKLYN TECHNICAL HIGH SCHOOL</td>\n",
       "      <td>1833.0</td>\n",
       "    </tr>\n",
       "    <tr>\n",
       "      <th>327</th>\n",
       "      <td>QUEENS HIGH SCHOOL FOR THE SCIENCES AT YORK CO...</td>\n",
       "      <td>1868.0</td>\n",
       "    </tr>\n",
       "    <tr>\n",
       "      <th>356</th>\n",
       "      <td>STATEN ISLAND TECHNICAL HIGH SCHOOL</td>\n",
       "      <td>1953.0</td>\n",
       "    </tr>\n",
       "  </tbody>\n",
       "</table>\n",
       "</div>"
      ],
      "text/plain": [
       "                                           SCHOOL NAME  sat_score\n",
       "37                              STUYVESANT HIGH SCHOOL     2096.0\n",
       "151                       BRONX HIGH SCHOOL OF SCIENCE     1969.0\n",
       "187                     BROOKLYN TECHNICAL HIGH SCHOOL     1833.0\n",
       "327  QUEENS HIGH SCHOOL FOR THE SCIENCES AT YORK CO...     1868.0\n",
       "356                STATEN ISLAND TECHNICAL HIGH SCHOOL     1953.0"
      ]
     },
     "execution_count": 56,
     "metadata": {},
     "output_type": "execute_result"
    }
   ],
   "source": [
    "combined.loc[(combined['hispanic_per']<10) & (combined['sat_score']>1800) , ['SCHOOL NAME', 'sat_score']]"
   ]
  },
  {
   "cell_type": "markdown",
   "metadata": {},
   "source": [
    "All these schools are highly selective, and often require an admission test."
   ]
  },
  {
   "cell_type": "markdown",
   "metadata": {},
   "source": [
    "## Gender"
   ]
  },
  {
   "cell_type": "code",
   "execution_count": 58,
   "metadata": {},
   "outputs": [
    {
     "data": {
      "text/plain": [
       "<matplotlib.axes._subplots.AxesSubplot at 0x7f2ddc0bb5b0>"
      ]
     },
     "execution_count": 58,
     "metadata": {},
     "output_type": "execute_result"
    },
    {
     "data": {
      "image/png": "[encoded data removed]",
      "text/plain": [
       "<Figure size 600x400 with 1 Axes>"
      ]
     },
     "metadata": {},
     "output_type": "display_data"
    }
   ],
   "source": [
    "correlations = combined[['male_per', 'female_per']].corrwith(combined['sat_score']).sort_values()\n",
    "correlations.plot(kind = 'barh')"
   ]
  },
  {
   "cell_type": "markdown",
   "metadata": {},
   "source": [
    "There is a weak positive correlation with percentage of female students, suggesting that girls may perform better in the test. Let's see a scatter plot:"
   ]
  },
  {
   "cell_type": "code",
   "execution_count": 59,
   "metadata": {},
   "outputs": [
    {
     "data": {
      "text/plain": [
       "<matplotlib.axes._subplots.AxesSubplot at 0x7f2da1d25d30>"
      ]
     },
     "execution_count": 59,
     "metadata": {},
     "output_type": "execute_result"
    },
    {
     "data": {
      "image/png": "[encoded data removed]",
      "text/plain": [
       "<Figure size 600x400 with 1 Axes>"
      ]
     },
     "metadata": {},
     "output_type": "display_data"
    }
   ],
   "source": [
    "combined.plot(kind = 'scatter', x = 'female_per', y = 'sat_score')"
   ]
  },
  {
   "cell_type": "markdown",
   "metadata": {},
   "source": [
    "I can't see any pattern in this plot. Let's see what happens with the best performing schools with greater percentage of female students."
   ]
  },
  {
   "cell_type": "code",
   "execution_count": 60,
   "metadata": {},
   "outputs": [
    {
     "data": {
      "text/html": [
       "<div>\n",
       "<style scoped>\n",
       "    .dataframe tbody tr th:only-of-type {\n",
       "        vertical-align: middle;\n",
       "    }\n",
       "\n",
       "    .dataframe tbody tr th {\n",
       "        vertical-align: top;\n",
       "    }\n",
       "\n",
       "    .dataframe thead th {\n",
       "        text-align: right;\n",
       "    }\n",
       "</style>\n",
       "<table border=\"1\" class=\"dataframe\">\n",
       "  <thead>\n",
       "    <tr style=\"text-align: right;\">\n",
       "      <th></th>\n",
       "      <th>SCHOOL NAME</th>\n",
       "      <th>sat_score</th>\n",
       "    </tr>\n",
       "  </thead>\n",
       "  <tbody>\n",
       "    <tr>\n",
       "      <th>5</th>\n",
       "      <td>BARD HIGH SCHOOL EARLY COLLEGE</td>\n",
       "      <td>1856.0</td>\n",
       "    </tr>\n",
       "    <tr>\n",
       "      <th>26</th>\n",
       "      <td>ELEANOR ROOSEVELT HIGH SCHOOL</td>\n",
       "      <td>1758.0</td>\n",
       "    </tr>\n",
       "    <tr>\n",
       "      <th>60</th>\n",
       "      <td>BEACON HIGH SCHOOL</td>\n",
       "      <td>1744.0</td>\n",
       "    </tr>\n",
       "    <tr>\n",
       "      <th>61</th>\n",
       "      <td>FIORELLO H. LAGUARDIA HIGH SCHOOL OF MUSIC &amp; A...</td>\n",
       "      <td>1707.0</td>\n",
       "    </tr>\n",
       "    <tr>\n",
       "      <th>302</th>\n",
       "      <td>TOWNSEND HARRIS HIGH SCHOOL</td>\n",
       "      <td>1910.0</td>\n",
       "    </tr>\n",
       "  </tbody>\n",
       "</table>\n",
       "</div>"
      ],
      "text/plain": [
       "                                           SCHOOL NAME  sat_score\n",
       "5                       BARD HIGH SCHOOL EARLY COLLEGE     1856.0\n",
       "26                       ELEANOR ROOSEVELT HIGH SCHOOL     1758.0\n",
       "60                                  BEACON HIGH SCHOOL     1744.0\n",
       "61   FIORELLO H. LAGUARDIA HIGH SCHOOL OF MUSIC & A...     1707.0\n",
       "302                        TOWNSEND HARRIS HIGH SCHOOL     1910.0"
      ]
     },
     "execution_count": 60,
     "metadata": {},
     "output_type": "execute_result"
    }
   ],
   "source": [
    "combined.loc[(combined['female_per']>60) & (combined['sat_score']>1700) , ['SCHOOL NAME', 'sat_score']]"
   ]
  }
 ],
 "metadata": {
  "kernelspec": {
   "display_name": "Python 3",
   "language": "python",
   "name": "python3"
  },
  "language_info": {
   "codemirror_mode": {
    "name": "ipython",
    "version": 3
   },
   "file_extension": ".py",
   "mimetype": "text/x-python",
   "name": "python",
   "nbconvert_exporter": "python",
   "pygments_lexer": "ipython3",
   "version": "3.8.2"
  }
 },
 "nbformat": 4,
 "nbformat_minor": 2
}
