{
 "cells": [
  {
   "cell_type": "markdown",
   "metadata": {
    "collapsed": true
   },
   "source": [
    "# Most popular posts in Hacker News\n",
    "\n",
    "In this project we'll analyse a sample dataset from Hacker News (HN) to determine whether `Ask HN` or `Show HN`get more comments on average, and whether the time at which the posts are created influence the number of comments received."
   ]
  },
  {
   "cell_type": "code",
   "execution_count": 1,
   "metadata": {},
   "outputs": [],
   "source": [
    "from csv import reader"
   ]
  },
  {
   "cell_type": "code",
   "execution_count": 14,
   "metadata": {},
   "outputs": [
    {
     "name": "stdout",
     "output_type": "stream",
     "text": [
      "['id', 'title', 'url', 'num_points', 'num_comments', 'author', 'created_at']\n",
      "\n",
      "\n",
      "['12224879', 'Interactive Dynamic Video', 'http://www.interactivedynamicvideo.com/', '386', '52', 'ne0phyte', '8/4/2016 11:52']\n",
      "\n",
      "\n",
      "['10975351', 'How to Use Open Source and Shut the Fuck Up at the Same Time', 'http://hueniverse.com/2016/01/26/how-to-use-open-source-and-shut-the-fuck-up-at-the-same-time/', '39', '10', 'josep2', '1/26/2016 19:30']\n",
      "\n",
      "\n",
      "['11964716', \"Florida DJs May Face Felony for April Fools' Water Joke\", 'http://www.thewire.com/entertainment/2013/04/florida-djs-april-fools-water-joke/63798/', '2', '1', 'vezycash', '6/23/2016 22:20']\n",
      "\n",
      "\n",
      "['11919867', 'Technology ventures: From Idea to Enterprise', 'https://www.amazon.com/Technology-Ventures-Enterprise-Thomas-Byers/dp/0073523429', '3', '1', 'hswarna', '6/17/2016 0:01']\n",
      "\n",
      "\n",
      "['10301696', 'Note by Note: The Making of Steinway L1037 (2007)', 'http://www.nytimes.com/2007/11/07/movies/07stein.html?_r=0', '8', '2', 'walterbell', '9/30/2015 4:12']\n",
      "\n",
      " Number of rows:  20100\n"
     ]
    }
   ],
   "source": [
    "opened_file=open('hacker_news.csv')\n",
    "read_file=reader(opened_file)\n",
    "hn=list(read_file)\n",
    "\n",
    "headers=hn[0]\n",
    "hn=hn[1:]\n",
    "\n",
    "print(headers)\n",
    "\n",
    "for row in hn[0:5]:\n",
    "    print('\\n')\n",
    "    print(row)\n",
    "\n",
    "print(\"\\n Number of rows: \", len(hn))\n",
    "    "
   ]
  },
  {
   "cell_type": "markdown",
   "metadata": {},
   "source": [
    "## Filtering data"
   ]
  },
  {
   "cell_type": "markdown",
   "metadata": {},
   "source": [
    "Let's filter those posts starting with `Ask HN` or `Show HN`"
   ]
  },
  {
   "cell_type": "code",
   "execution_count": 12,
   "metadata": {},
   "outputs": [
    {
     "name": "stdout",
     "output_type": "stream",
     "text": [
      "The number of \"Ask HN\" posts is:\t 1744\n",
      "The number of \"Show HN\" posts is:\t 1162\n",
      "The number of other posts is:\t\t 17194\n"
     ]
    }
   ],
   "source": [
    "ask_posts=[] # List of posts starting with \"Ask HN\"\n",
    "show_posts=[] # List of posts starting with \"Show HN\"\n",
    "other_posts=[] # All others\n",
    "\n",
    "for row in hn:\n",
    "    title=row[1]\n",
    "    title_lower=title.lower()\n",
    "    if title_lower.startswith('ask hn'):\n",
    "        ask_posts.append(row)\n",
    "    elif title_lower.startswith('show hn'):\n",
    "        show_posts.append(row)\n",
    "    else:\n",
    "        other_posts.append(row)\n",
    "\n",
    "print('The number of \"Ask HN\" posts is:\\t', len(ask_posts))\n",
    "print('The number of \"Show HN\" posts is:\\t', len(show_posts))  \n",
    "print('The number of other posts is:\\t\\t', len(other_posts))    "
   ]
  },
  {
   "cell_type": "markdown",
   "metadata": {},
   "source": [
    "## Average number of comments"
   ]
  },
  {
   "cell_type": "code",
   "execution_count": 20,
   "metadata": {},
   "outputs": [
    {
     "name": "stdout",
     "output_type": "stream",
     "text": [
      "\"Ask HN\" posts received an average of  14  comments\n",
      "\"Show HN\" posts received an average of  10  comments\n"
     ]
    }
   ],
   "source": [
    "total_ask_comments=0 # Here we will sum up all \"Ask HN\" comments\n",
    "\n",
    "for row in ask_posts:\n",
    "    comments=int(row[4])\n",
    "    total_ask_comments+=comments\n",
    "\n",
    "total_show_comments=0 # Here we will sum up all \"Show HN\" comments\n",
    "for row in show_posts:\n",
    "    comments=int(row[4])\n",
    "    total_show_comments+=comments\n",
    "\n",
    "# Calculate average comments on each group\n",
    "avg_ask_comments=round(total_ask_comments/len(ask_posts))\n",
    "avg_show_comments=round(total_show_comments/len(show_posts))\n",
    "\n",
    "# Display averages\n",
    "print('\"Ask HN\" posts received an average of ', avg_ask_comments, \" comments\")\n",
    "print('\"Show HN\" posts received an average of ', avg_show_comments, \" comments\")"
   ]
  },
  {
   "cell_type": "markdown",
   "metadata": {},
   "source": [
    "## Does time influence the number of comments?\n",
    "\n",
    "We will create a frequency table to calculate the amount of posts created per hour along with the amount of comments"
   ]
  },
  {
   "cell_type": "code",
   "execution_count": 21,
   "metadata": {},
   "outputs": [],
   "source": [
    "import datetime as dt"
   ]
  },
  {
   "cell_type": "code",
   "execution_count": 27,
   "metadata": {
    "scrolled": true
   },
   "outputs": [
    {
     "name": "stdout",
     "output_type": "stream",
     "text": [
      "[['8/16/2016 9:55', 6], ['11/22/2015 13:43', 29], ['5/2/2016 10:14', 1]]\n"
     ]
    }
   ],
   "source": [
    "result_list=[] #list of lists, each list will contain date and number of comments\n",
    "\n",
    "for row in ask_posts:\n",
    "    created_at=row[6]\n",
    "    comments=int(row[4])\n",
    "    result_list.append([created_at,comments])   \n",
    "\n",
    "print(result_list[0:3])"
   ]
  },
  {
   "cell_type": "code",
   "execution_count": 31,
   "metadata": {
    "scrolled": true
   },
   "outputs": [
    {
     "name": "stdout",
     "output_type": "stream",
     "text": [
      " Posts by hour:\n",
      "\n",
      "{'09': 45, '13': 85, '10': 59, '14': 107, '16': 108, '23': 68, '12': 73, '17': 100, '15': 116, '21': 109, '20': 80, '02': 58, '18': 109, '03': 54, '05': 46, '19': 110, '01': 60, '22': 71, '08': 48, '04': 47, '00': 55, '06': 44, '07': 34, '11': 58}\n",
      "\n",
      " Comments by hour:\n",
      "\n",
      "{'09': 251, '13': 1253, '10': 793, '14': 1416, '16': 1814, '23': 543, '12': 687, '17': 1146, '15': 4477, '21': 1745, '20': 1722, '02': 1381, '18': 1439, '03': 421, '05': 464, '19': 1188, '01': 683, '22': 479, '08': 492, '04': 337, '00': 447, '06': 397, '07': 267, '11': 641}\n"
     ]
    }
   ],
   "source": [
    "counts_by_hour={}\n",
    "comments_by_hour={}\n",
    "\n",
    "for row in result_list:\n",
    "    date_and_time=row[0] #Extract the date and time as a a string\n",
    "    dt_object=dt.datetime.strptime(date_and_time, \"%m/%d/%Y %H:%M\") # Parse date and time as a datetime object\n",
    "    hour=dt_object.strftime(\"%H\") # Extract the hour as a string\n",
    "    if hour not in counts_by_hour:\n",
    "        counts_by_hour[hour]=1\n",
    "        comments_by_hour[hour]=row[1]\n",
    "    else:\n",
    "        counts_by_hour[hour]+=1\n",
    "        comments_by_hour[hour]+=row[1]\n",
    "\n",
    "print(\" Posts by hour:\\n\")\n",
    "print(counts_by_hour)\n",
    "print(\"\\n Comments by hour:\\n\")\n",
    "\n",
    "print(comments_by_hour)"
   ]
  },
  {
   "cell_type": "markdown",
   "metadata": {},
   "source": [
    "## Average number of comments on a post\n",
    "\n",
    "Let's iterate over the comments dictionary and divide each number of comments by the number of posts, so to obtain an average number of comment per post"
   ]
  },
  {
   "cell_type": "code",
   "execution_count": 65,
   "metadata": {},
   "outputs": [
    {
     "name": "stdout",
     "output_type": "stream",
     "text": [
      "Top 5 Hours for Ask Posts Comments, Eastern Standard Time:\n",
      "\n",
      "15:00 ET: 38.59 average comments per post\n",
      "02:00 ET: 23.81 average comments per post\n",
      "20:00 ET: 21.52 average comments per post\n",
      "16:00 ET: 16.80 average comments per post\n",
      "21:00 ET: 16.01 average comments per post\n",
      "\n",
      "\n",
      "Top 5 Hours for Ask Posts Comments, Santiago:\n",
      "\n",
      "17:00: 38.59 average comments per post\n",
      "04:00: 23.81 average comments per post\n",
      "22:00: 21.52 average comments per post\n",
      "18:00: 16.80 average comments per post\n",
      "23:00: 16.01 average comments per post\n"
     ]
    }
   ],
   "source": [
    "avg_by_hour=[] #average comments on a post by hour\n",
    "\n",
    "for hour in comments_by_hour:\n",
    "    avg_by_hour.append([hour, comments_by_hour[hour]/counts_by_hour[hour]])\n",
    "\n",
    "swap_avg_by_hour=[] #swapped columns to perform the sorting based on comments\n",
    "for row in avg_by_hour:\n",
    "    swap_avg_by_hour.append([row[1], row[0]])\n",
    "\n",
    "sorted_swap=sorted(swap_avg_by_hour, reverse=True) #it sorts based on the first column\n",
    "\n",
    "print(\"Top 5 Hours for Ask Posts Comments, Eastern Standard Time:\\n\")\n",
    "\n",
    "for row in sorted_swap[0:5]: #displays results\n",
    "    hour_object=dt.datetime.strptime(row[1],\"%H\")\n",
    "    hour_string=hour_object.strftime(\"%H:%M\")\n",
    "    print(\"{} ET: {:.2f} average comments per post\".format(hour_string,row[0]))\n",
    "\n",
    "print(\"\\n\")\n",
    "print(\"Top 5 Hours for Ask Posts Comments, Santiago time:\\n\")\n",
    "\n",
    "for row in sorted_swap[0:5]: #displays results\n",
    "    hour_object=dt.datetime.strptime(row[1],\"%H\")\n",
    "    hour_SCL=hour_object+dt.timedelta(hours=2)\n",
    "    hour_string=hour_SCL.strftime(\"%H:%M\")\n",
    "    print(\"{}: {:.2f} average comments per post\".format(hour_string, row[0])) "
   ]
  },
  {
   "cell_type": "markdown",
   "metadata": {},
   "source": [
    "## Conclusions\n",
    "\n",
    "Based on this results, the best time to comment an \"Ask HN\" post is 17:00, local time"
   ]
  }
 ],
 "metadata": {
  "kernelspec": {
   "display_name": "Python 3",
   "language": "python",
   "name": "python3"
  },
  "language_info": {
   "codemirror_mode": {
    "name": "ipython",
    "version": 3
   },
   "file_extension": ".py",
   "mimetype": "text/x-python",
   "name": "python",
   "nbconvert_exporter": "python",
   "pygments_lexer": "ipython3",
   "version": "3.8.2"
  }
 },
 "nbformat": 4,
 "nbformat_minor": 2
}
